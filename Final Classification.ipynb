{
 "cells": [
  {
   "cell_type": "code",
   "execution_count": 20,
   "metadata": {
    "collapsed": true
   },
   "outputs": [],
   "source": [
    "import pandas as pd\n",
    "import seaborn as sns\n",
    "import matplotlib.pyplot as plt\n",
    "import numpy as np\n",
    "from sklearn.model_selection import train_test_split\n",
    "import warnings\n",
    "warnings.filterwarnings('ignore')"
   ]
  },
  {
   "cell_type": "code",
   "execution_count": 26,
   "metadata": {
    "collapsed": true
   },
   "outputs": [],
   "source": [
    "from gensim.models import word2vec\n",
    "from sklearn.feature_extraction.text import TfidfVectorizer\n",
    "from collections import defaultdict\n",
    "\n",
    "from sklearn.pipeline import Pipeline\n",
    "from sklearn.ensemble import ExtraTreesClassifier"
   ]
  },
  {
   "cell_type": "code",
   "execution_count": 4,
   "metadata": {},
   "outputs": [
    {
     "data": {
      "text/html": [
       "<div>\n",
       "<style>\n",
       "    .dataframe thead tr:only-child th {\n",
       "        text-align: right;\n",
       "    }\n",
       "\n",
       "    .dataframe thead th {\n",
       "        text-align: left;\n",
       "    }\n",
       "\n",
       "    .dataframe tbody tr th {\n",
       "        vertical-align: top;\n",
       "    }\n",
       "</style>\n",
       "<table border=\"1\" class=\"dataframe\">\n",
       "  <thead>\n",
       "    <tr style=\"text-align: right;\">\n",
       "      <th></th>\n",
       "      <th>author</th>\n",
       "      <th>contents</th>\n",
       "      <th>description</th>\n",
       "      <th>publisher</th>\n",
       "      <th>source_url</th>\n",
       "      <th>title</th>\n",
       "      <th>date</th>\n",
       "      <th>time</th>\n",
       "      <th>label</th>\n",
       "      <th>c</th>\n",
       "      <th>marks</th>\n",
       "    </tr>\n",
       "  </thead>\n",
       "  <tbody>\n",
       "    <tr>\n",
       "      <th>0</th>\n",
       "      <td>Stripe.com</td>\n",
       "      <td>a complete payments platform engineered growth...</td>\n",
       "      <td>At Stripe, we’ve long been excited about the p...</td>\n",
       "      <td>Stripe.com</td>\n",
       "      <td>https://stripe.com/blog/ending-bitcoin-support</td>\n",
       "      <td>Ending Bitcoin Support</td>\n",
       "      <td>2018-01-23</td>\n",
       "      <td>00:00:00</td>\n",
       "      <td>0.0</td>\n",
       "      <td>['a', 'complete', 'payments', 'platform', 'eng...</td>\n",
       "      <td>0</td>\n",
       "    </tr>\n",
       "    <tr>\n",
       "      <th>1</th>\n",
       "      <td>Courtney Goldsmith</td>\n",
       "      <td>tech investor tmt investments planning ramp in...</td>\n",
       "      <td>Tech investor TMT Investments is planning to r...</td>\n",
       "      <td>Cityam.com</td>\n",
       "      <td>http://www.cityam.com/282328/tech-investor-tmt...</td>\n",
       "      <td>Tech investor TMT is ready to ride the blockch...</td>\n",
       "      <td>2018-03-15</td>\n",
       "      <td>12:40:00</td>\n",
       "      <td>0.0</td>\n",
       "      <td>['tech', 'investor', 'tmt', 'investments', 'pl...</td>\n",
       "      <td>0</td>\n",
       "    </tr>\n",
       "    <tr>\n",
       "      <th>2</th>\n",
       "      <td>Ricardo Esteves</td>\n",
       "      <td>bitcoin news price information analysis john m...</td>\n",
       "      <td>John McAfee, founder of the software company M...</td>\n",
       "      <td>Newsbtc.com</td>\n",
       "      <td>https://www.newsbtc.com/2018/03/15/john-mcafee...</td>\n",
       "      <td>John McAfee Joins ‘Hackproof’ Startup CryptoSe...</td>\n",
       "      <td>2018-03-15</td>\n",
       "      <td>12:45:48</td>\n",
       "      <td>0.0</td>\n",
       "      <td>['bitcoin', 'news', 'price', 'information', 'a...</td>\n",
       "      <td>0</td>\n",
       "    </tr>\n",
       "    <tr>\n",
       "      <th>3</th>\n",
       "      <td>Steve McCaskill</td>\n",
       "      <td>by steve mccaskill t z networking colt pccw gl...</td>\n",
       "      <td>Colt and PCCW Blockchain trial claims to have ...</td>\n",
       "      <td>TechRadar</td>\n",
       "      <td>https://www.techradar.com/news/blockchain-can-...</td>\n",
       "      <td>Blockchain can 'speed up' payment settelements...</td>\n",
       "      <td>2018-03-15</td>\n",
       "      <td>13:00:42</td>\n",
       "      <td>0.0</td>\n",
       "      <td>['by', 'steve', 'mccaskill', 't', 'z', 'networ...</td>\n",
       "      <td>0</td>\n",
       "    </tr>\n",
       "    <tr>\n",
       "      <th>4</th>\n",
       "      <td>Lindsay Rowntree</td>\n",
       "      <td>lindsay rowntree th mar news comments blockcha...</td>\n",
       "      <td>Blockchain is a revolutionary technology that ...</td>\n",
       "      <td>Exchangewire.com</td>\n",
       "      <td>https://www.exchangewire.com/blog/2018/03/15/b...</td>\n",
       "      <td>Blockchain Can Clean Up Programmatic, But We H...</td>\n",
       "      <td>2018-03-15</td>\n",
       "      <td>13:00:44</td>\n",
       "      <td>0.0</td>\n",
       "      <td>['lindsay', 'rowntree', 'th', 'mar', 'news', '...</td>\n",
       "      <td>0</td>\n",
       "    </tr>\n",
       "  </tbody>\n",
       "</table>\n",
       "</div>"
      ],
      "text/plain": [
       "               author                                           contents  \\\n",
       "0          Stripe.com  a complete payments platform engineered growth...   \n",
       "1  Courtney Goldsmith  tech investor tmt investments planning ramp in...   \n",
       "2     Ricardo Esteves  bitcoin news price information analysis john m...   \n",
       "3     Steve McCaskill  by steve mccaskill t z networking colt pccw gl...   \n",
       "4    Lindsay Rowntree  lindsay rowntree th mar news comments blockcha...   \n",
       "\n",
       "                                         description         publisher  \\\n",
       "0  At Stripe, we’ve long been excited about the p...        Stripe.com   \n",
       "1  Tech investor TMT Investments is planning to r...        Cityam.com   \n",
       "2  John McAfee, founder of the software company M...       Newsbtc.com   \n",
       "3  Colt and PCCW Blockchain trial claims to have ...         TechRadar   \n",
       "4  Blockchain is a revolutionary technology that ...  Exchangewire.com   \n",
       "\n",
       "                                          source_url  \\\n",
       "0     https://stripe.com/blog/ending-bitcoin-support   \n",
       "1  http://www.cityam.com/282328/tech-investor-tmt...   \n",
       "2  https://www.newsbtc.com/2018/03/15/john-mcafee...   \n",
       "3  https://www.techradar.com/news/blockchain-can-...   \n",
       "4  https://www.exchangewire.com/blog/2018/03/15/b...   \n",
       "\n",
       "                                               title        date      time  \\\n",
       "0                             Ending Bitcoin Support  2018-01-23  00:00:00   \n",
       "1  Tech investor TMT is ready to ride the blockch...  2018-03-15  12:40:00   \n",
       "2  John McAfee Joins ‘Hackproof’ Startup CryptoSe...  2018-03-15  12:45:48   \n",
       "3  Blockchain can 'speed up' payment settelements...  2018-03-15  13:00:42   \n",
       "4  Blockchain Can Clean Up Programmatic, But We H...  2018-03-15  13:00:44   \n",
       "\n",
       "   label                                                  c  marks  \n",
       "0    0.0  ['a', 'complete', 'payments', 'platform', 'eng...      0  \n",
       "1    0.0  ['tech', 'investor', 'tmt', 'investments', 'pl...      0  \n",
       "2    0.0  ['bitcoin', 'news', 'price', 'information', 'a...      0  \n",
       "3    0.0  ['by', 'steve', 'mccaskill', 't', 'z', 'networ...      0  \n",
       "4    0.0  ['lindsay', 'rowntree', 'th', 'mar', 'news', '...      0  "
      ]
     },
     "execution_count": 4,
     "metadata": {},
     "output_type": "execute_result"
    }
   ],
   "source": [
    "df = pd.read_csv('ready for classification').drop('Unnamed: 0', axis =1)\n",
    "df.head()"
   ]
  },
  {
   "cell_type": "code",
   "execution_count": 59,
   "metadata": {},
   "outputs": [
    {
     "data": {
      "text/plain": [
       "30024"
      ]
     },
     "execution_count": 59,
     "metadata": {},
     "output_type": "execute_result"
    }
   ],
   "source": [
    "len(df[df.marks==1])"
   ]
  },
  {
   "cell_type": "code",
   "execution_count": 60,
   "metadata": {},
   "outputs": [
    {
     "data": {
      "text/plain": [
       "45217"
      ]
     },
     "execution_count": 60,
     "metadata": {},
     "output_type": "execute_result"
    }
   ],
   "source": [
    "len(df)"
   ]
  },
  {
   "cell_type": "code",
   "execution_count": 6,
   "metadata": {},
   "outputs": [],
   "source": [
    "#splitting the data into train and test\n",
    "train, test = train_test_split(df, test_size=0.15, random_state= 67)"
   ]
  },
  {
   "cell_type": "code",
   "execution_count": 7,
   "metadata": {
    "collapsed": true
   },
   "outputs": [],
   "source": [
    "train_Y = train.marks"
   ]
  },
  {
   "cell_type": "code",
   "execution_count": 8,
   "metadata": {
    "collapsed": true
   },
   "outputs": [],
   "source": [
    "test_Y = test.marks"
   ]
  },
  {
   "cell_type": "markdown",
   "metadata": {},
   "source": [
    "# Starting the Feature Selection Process"
   ]
  },
  {
   "cell_type": "code",
   "execution_count": 25,
   "metadata": {
    "collapsed": true
   },
   "outputs": [],
   "source": [
    "#performing Tf-idf on title\n",
    "titles= list(train['title'])\n",
    "from sklearn.feature_extraction.text import TfidfVectorizer\n",
    "\n",
    "tfidf = TfidfVectorizer(norm='l2',min_df=0, use_idf=True, smooth_idf=False, sublinear_tf=True)\n",
    "tfidf_titles = tfidf.fit_transform(titles)\n"
   ]
  },
  {
   "cell_type": "code",
   "execution_count": 35,
   "metadata": {
    "collapsed": true
   },
   "outputs": [],
   "source": [
    "#for testing set\n",
    "titles_test= list(test['title'])\n",
    "\n",
    "\n",
    "\n",
    "tfidf_titles_test = tfidf.fit_transform(titles_test)"
   ]
  },
  {
   "cell_type": "code",
   "execution_count": 27,
   "metadata": {
    "collapsed": true
   },
   "outputs": [],
   "source": [
    "## modified the code from open source website http://nadbordrozd.github.io/blog/2016/05/20/text-classification-with-word2vec/ \n",
    "class MeanEmbeddingVectorizer(object):\n",
    "    def __init__(self, word2vec):\n",
    "        self.word2vec = word2vec\n",
    "        # if a text is empty we should return a vector of zeros\n",
    "        # with the same dimensionality as all the other vectors\n",
    "        self.dim = len(next(iter(word2vec.values())))\n",
    "\n",
    "    def fit(self, X, y):\n",
    "        return self\n",
    "\n",
    "    def transform(self, X):\n",
    "        return np.array([\n",
    "            np.mean([self.word2vec[w] for w in words if w in self.word2vec]\n",
    "                    or [np.zeros(self.dim)], axis=0)\n",
    "            for words in X\n",
    "        ])"
   ]
  },
  {
   "cell_type": "code",
   "execution_count": 28,
   "metadata": {
    "collapsed": true
   },
   "outputs": [],
   "source": [
    "class TfidfEmbeddingVectorizer(object):\n",
    "    def __init__(self, word2vec):\n",
    "        self.word2vec = word2vec\n",
    "        self.word2weight = None\n",
    "        self.dim = len(next(iter(word2vec.values())))\n",
    "\n",
    "    def fit(self, X):\n",
    "        tfidf = TfidfVectorizer(analyzer=lambda x: x)\n",
    "        tfidf.fit(X)\n",
    "        # if a word was never seen - it must be at least as infrequent\n",
    "        # as any of the known words - so the default idf is the max of \n",
    "        # known idf's\n",
    "        max_idf = max(tfidf.idf_)\n",
    "        self.word2weight = defaultdict(\n",
    "            lambda: max_idf,\n",
    "            [(w, tfidf.idf_[i]) for w, i in tfidf.vocabulary_.items()])\n",
    "\n",
    "        return self\n",
    "\n",
    "    def transform(self, X):\n",
    "        return np.array([\n",
    "                np.mean([self.word2vec[w] * self.word2weight[w]\n",
    "                         for w in words if w in self.word2vec] or\n",
    "                        [np.zeros(self.dim)], axis=0)\n",
    "                for words in X\n",
    "            ])"
   ]
  },
  {
   "cell_type": "code",
   "execution_count": 29,
   "metadata": {
    "collapsed": true
   },
   "outputs": [],
   "source": [
    "\n",
    "model = word2vec.Word2Vec(train['c'], min_count=15)\n",
    "w2v = dict(zip(model.wv.index2word, model.wv.syn0))\n"
   ]
  },
  {
   "cell_type": "code",
   "execution_count": 36,
   "metadata": {
    "collapsed": true
   },
   "outputs": [],
   "source": [
    "model_test = word2vec.Word2Vec(test['c'], min_count=15)\n",
    "w2v_test = dict(zip(model_test.wv.index2word, model_test.wv.syn0))"
   ]
  },
  {
   "cell_type": "code",
   "execution_count": 30,
   "metadata": {
    "collapsed": true
   },
   "outputs": [],
   "source": [
    "#tf_idf with word to vec\n",
    "t = TfidfEmbeddingVectorizer(w2v)\n",
    "t.fit(train['c'])\n",
    "X = t.transform(train['c'])"
   ]
  },
  {
   "cell_type": "code",
   "execution_count": 37,
   "metadata": {
    "collapsed": true
   },
   "outputs": [],
   "source": [
    "#the same for test\n",
    "t_test = TfidfEmbeddingVectorizer(w2v_test)\n",
    "t_test.fit(test['c'])\n",
    "X_test = t_test.transform(test['c'])"
   ]
  },
  {
   "cell_type": "code",
   "execution_count": 54,
   "metadata": {},
   "outputs": [
    {
     "data": {
      "text/plain": [
       "(38434, 100)"
      ]
     },
     "execution_count": 54,
     "metadata": {},
     "output_type": "execute_result"
    }
   ],
   "source": [
    "X.shape"
   ]
  },
  {
   "cell_type": "code",
   "execution_count": 53,
   "metadata": {},
   "outputs": [
    {
     "data": {
      "text/plain": [
       "(38434, 13237)"
      ]
     },
     "execution_count": 53,
     "metadata": {},
     "output_type": "execute_result"
    }
   ],
   "source": [
    "tfidf_titles.shape"
   ]
  },
  {
   "cell_type": "code",
   "execution_count": null,
   "metadata": {
    "collapsed": true
   },
   "outputs": [],
   "source": [
    "np.append(X_test, np.array([binary_html_test]).T,1)"
   ]
  },
  {
   "cell_type": "code",
   "execution_count": 51,
   "metadata": {},
   "outputs": [],
   "source": [
    "features = np.append(X, np.array([tfidf_titles]).T)"
   ]
  },
  {
   "cell_type": "code",
   "execution_count": 52,
   "metadata": {},
   "outputs": [
    {
     "data": {
      "text/plain": [
       "(3843401,)"
      ]
     },
     "execution_count": 52,
     "metadata": {},
     "output_type": "execute_result"
    }
   ],
   "source": [
    "features.shape"
   ]
  },
  {
   "cell_type": "code",
   "execution_count": 39,
   "metadata": {
    "collapsed": true
   },
   "outputs": [],
   "source": [
    "features_test = np.append(X_test, tfidf_titles_test)"
   ]
  },
  {
   "cell_type": "code",
   "execution_count": 43,
   "metadata": {},
   "outputs": [
    {
     "data": {
      "text/plain": [
       "(3843401,)"
      ]
     },
     "execution_count": 43,
     "metadata": {},
     "output_type": "execute_result"
    }
   ],
   "source": [
    "features.shape"
   ]
  },
  {
   "cell_type": "code",
   "execution_count": 55,
   "metadata": {},
   "outputs": [
    {
     "data": {
      "text/plain": [
       "RandomForestClassifier(bootstrap=True, class_weight=None, criterion='gini',\n",
       "            max_depth=None, max_features='auto', max_leaf_nodes=None,\n",
       "            min_impurity_decrease=0.0, min_impurity_split=None,\n",
       "            min_samples_leaf=1, min_samples_split=2,\n",
       "            min_weight_fraction_leaf=0.0, n_estimators=1000, n_jobs=1,\n",
       "            oob_score=False, random_state=None, verbose=0,\n",
       "            warm_start=False)"
      ]
     },
     "execution_count": 55,
     "metadata": {},
     "output_type": "execute_result"
    }
   ],
   "source": [
    "#training random forest\n",
    "from sklearn.ensemble import RandomForestClassifier\n",
    "rf_d = RandomForestClassifier(n_estimators=1000)\n",
    "rf_d.fit(X, train_Y)\n",
    "\n"
   ]
  },
  {
   "cell_type": "code",
   "execution_count": 57,
   "metadata": {},
   "outputs": [
    {
     "name": "stdout",
     "output_type": "stream",
     "text": [
      "training accuracy is:  0.857574023\n"
     ]
    }
   ],
   "source": [
    "print('training accuracy is: ', rf_d.score(X, train_Y))"
   ]
  },
  {
   "cell_type": "code",
   "execution_count": 58,
   "metadata": {},
   "outputs": [
    {
     "name": "stdout",
     "output_type": "stream",
     "text": [
      "testing accuracy is: 0.34040984815\n"
     ]
    }
   ],
   "source": [
    "print('testing accuracy is:', rf_d.score(X_test, test_Y))"
   ]
  },
  {
   "cell_type": "code",
   "execution_count": null,
   "metadata": {
    "collapsed": true
   },
   "outputs": [],
   "source": []
  }
 ],
 "metadata": {
  "kernelspec": {
   "display_name": "Python 3",
   "language": "python",
   "name": "python3"
  },
  "language_info": {
   "codemirror_mode": {
    "name": "ipython",
    "version": 3
   },
   "file_extension": ".py",
   "mimetype": "text/x-python",
   "name": "python",
   "nbconvert_exporter": "python",
   "pygments_lexer": "ipython3",
   "version": "3.6.3"
  }
 },
 "nbformat": 4,
 "nbformat_minor": 2
}
