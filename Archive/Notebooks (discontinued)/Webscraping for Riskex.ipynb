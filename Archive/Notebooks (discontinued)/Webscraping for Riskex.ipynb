{
 "cells": [
  {
   "cell_type": "code",
   "execution_count": 1,
   "metadata": {
    "collapsed": true
   },
   "outputs": [],
   "source": [
    "import requests\n",
    "import bs4 as bs\n",
    "import pandas as pd\n",
    "import urllib3\n",
    "import re"
   ]
  },
  {
   "cell_type": "code",
   "execution_count": 2,
   "metadata": {
    "collapsed": true
   },
   "outputs": [],
   "source": [
    "source = requests.get('https://www.coindesk.com/category/technology-news/').content\n",
    "soup = bs.BeautifulSoup(source,features='lxml')\n",
    "content = soup.find(id='content')"
   ]
  },
  {
   "cell_type": "code",
   "execution_count": 3,
   "metadata": {
    "collapsed": true
   },
   "outputs": [
    {
     "name": "stdout",
     "output_type": "stream",
     "text": [
      "<div class=\"category-content\" id=\"content\">\n",
      " <div class=\"article medium post-318418 post type-post status-publish format-standard has-post-thumbnail hentry category-features category-bitcoin category-technology-news tag-twitter tag-featured tag-bitcoin tag-bitcoin-cash tag-jack-dorsey\" id=\"post-318418\">\n",
      "  <div class=\"picture\">\n",
      "   <a class=\"fade\" href=\"https://www.coindesk.com/bitcoin-twitter-war-raging-no-account-safe/\" title=\"A Bitcoin Twitter War Is Raging And No Account Is Safe\">\n",
      "    <img alt=\"broken, keyboard\" class=\" wp-post-image\" height=\"135\" sizes=\"(max-width: 200px) 100vw, 200px\" src=\"https://media.coindesk.com/uploads/2018/03/broken-keyboard-200x135.jpg\" srcset=\"https://media.coindesk.com/uploads/2018/03/broken-keyboard-200x135.jpg 200w, https://media.coindesk.com/uploads/2018/03/broken-keyboard-90x60.jpg 90w, https://media.coindesk.com/uploads/2018/03/broken-keyboard-119x79.jpg 119w\" width=\"200\"/>\n",
      "   </a>\n",
      "  </div>\n",
      "  <div class=\"post-info\">\n",
      "   <h3>\n",
      "    <a class=\"fade\" href=\"https://www.coindesk.com/bitcoin-twitter-war-raging-no-account-safe/\" title=\"A Bitcoin Twitter War Is Raging And No Account Is Safe\">\n",
      "     A Bitcoin Twitter War Is Raging And No Account Is Safe\n",
      "    </a>\n",
      "   </h3>\n",
      "   <p class=\"timeauthor\">\n",
      "    <time datetime=\"2018-03-10T12:30:26+00:00\">\n",
      "     Mar 10, 2018 at 12:30\n",
      "    </time>\n",
      "    |\n",
      "    <cite>\n",
      "     <a class=\"author url fn\" href=\"https://www.coindesk.com/author/lcuen/\" rel=\"author\" title=\"Posts by Leigh Cuen\">\n",
      "      Leigh Cuen\n",
      "     </a>\n",
      "    </cite>\n",
      "   </p>\n",
      "   <p class=\"desc\">\n",
      "    A years-long intellectual debate on bitcoin's technological roadmap has spilled over into Twitter, resulting in a wave of suspicions and shadowbans.\n",
      "   </p>\n",
      "  </div>\n",
      " </div>\n",
      " <div class=\"article medium post-318395 post type-post status-publish format-standard has-post-thumbnail hentry category-news category-ethereum-technology-news category-technology-news tag-ethereum tag-vitalik-buterin tag-smart-contracts tag-plasma\" id=\"post-318395\">\n",
      "  <div class=\"picture\">\n",
      "   <a class=\"fade\" href=\"https://www.coindesk.com/vitalik-reveals-new-idea-plasma-scaling-ethereum-event/\" title=\"Vitalik Reveals New Idea for Plasma Scaling On Ethereum\">\n",
      "    <img alt=\"\" class=\" wp-post-image\" height=\"135\" src=\"https://media.coindesk.com/uploads/2018/03/V-1-200x135.jpg\" width=\"200\"/>\n",
      "   </a>\n",
      "  </div>\n",
      "  <div class=\"post-info\">\n",
      "   <h3>\n",
      "    <a class=\"fade\" href=\"https://www.coindesk.com/vitalik-reveals-new-idea-plasma-scaling-ethereum-event/\" title=\"Vitalik Reveals New Idea for Plasma Scaling On Ethereum\">\n",
      "     Vitalik Reveals New Idea for Plasma Scaling On Ethereum\n",
      "    </a>\n",
      "   </h3>\n",
      "   <p class=\"timeauthor\">\n",
      "    <time datetime=\"2018-03-09T21:02:02+00:00\">\n",
      "     Mar 9, 2018 at 21:02\n",
      "    </time>\n",
      "    |\n",
      "    <cite>\n",
      "     <a class=\"author url fn\" href=\"https://www.coindesk.com/author/rachelroseoleary/\" rel=\"author\" title=\"Posts by Rachel Rose O'Leary\">\n",
      "      Rachel Rose O'Leary\n",
      "     </a>\n",
      "    </cite>\n",
      "   </p>\n",
      "   <p class=\"desc\">\n",
      "    Vitalik Buterin discussed a new idea Friday for a scaling solution that envisions how the capabilities of the ethereum blockchain might be expanded.\n",
      "   </p>\n",
      "  </div>\n",
      " </div>\n",
      " <div class=\"article medium post-318214 post type-post status-publish format-standard has-post-thumbnail hentry category-features category-ethereum-technology-news category-technology-news tag-privacy tag-ethereum tag-zcash\" id=\"post-318214\">\n",
      "  <div class=\"picture\">\n",
      "   <a class=\"fade\" href=\"https://www.coindesk.com/progress-hot-ethereum-privacy-projects-cooling-off/\" title=\"Progress Slows On Once-Hot Ethereum Privacy Projects\">\n",
      "    <img alt=\"party, masks, privacy\" class=\" wp-post-image\" height=\"135\" sizes=\"(max-width: 200px) 100vw, 200px\" src=\"https://media.coindesk.com/uploads/2018/03/party-masks-privacy-200x135.jpg\" srcset=\"https://media.coindesk.com/uploads/2018/03/party-masks-privacy-200x135.jpg 200w, https://media.coindesk.com/uploads/2018/03/party-masks-privacy-90x60.jpg 90w, https://media.coindesk.com/uploads/2018/03/party-masks-privacy-119x79.jpg 119w\" width=\"200\"/>\n",
      "   </a>\n",
      "  </div>\n",
      "  <div class=\"post-info\">\n",
      "   <h3>\n",
      "    <a class=\"fade\" href=\"https://www.coindesk.com/progress-hot-ethereum-privacy-projects-cooling-off/\" title=\"Progress Slows On Once-Hot Ethereum Privacy Projects\">\n",
      "     Progress Slows On Once-Hot Ethereum Privacy Projects\n",
      "    </a>\n",
      "   </h3>\n",
      "   <p class=\"timeauthor\">\n",
      "    <time datetime=\"2018-03-09T09:00:27+00:00\">\n",
      "     Mar 9, 2018 at 09:00\n",
      "    </time>\n",
      "    |\n",
      "    <cite>\n",
      "     <a class=\"author url fn\" href=\"https://www.coindesk.com/author/rachelroseoleary/\" rel=\"author\" title=\"Posts by Rachel Rose O'Leary\">\n",
      "      Rachel Rose O'Leary\n",
      "     </a>\n",
      "    </cite>\n",
      "   </p>\n",
      "   <p class=\"desc\">\n",
      "    The promise of private ethereum smart contracts remains undiminished, though a conference this week showcased that challenges that persisting today.\n",
      "   </p>\n",
      "  </div>\n",
      " </div>\n",
      " <div class=\"article medium post-317910 post type-post status-publish format-standard has-post-thumbnail hentry category-news category-ethereum-technology-news category-technology-news tag-ethereum tag-vitalik-buterin tag-ethereum-foundation\" id=\"post-317910\">\n",
      "  <div class=\"picture\">\n",
      "   <a class=\"fade\" href=\"https://www.coindesk.com/2-5m-ethereum-foundation-announces-first-wave-of-grant-funding/\" title=\"Ethereum Foundation Awards Millions In New Grant Funding\">\n",
      "    <img alt=\"\" class=\" wp-post-image\" height=\"135\" src=\"https://media.coindesk.com/uploads/2018/02/ethereum-e1518717543937-200x135.jpg\" width=\"200\"/>\n",
      "   </a>\n",
      "  </div>\n",
      "  <div class=\"post-info\">\n",
      "   <h3>\n",
      "    <a class=\"fade\" href=\"https://www.coindesk.com/2-5m-ethereum-foundation-announces-first-wave-of-grant-funding/\" title=\"Ethereum Foundation Awards Millions In New Grant Funding\">\n",
      "     Ethereum Foundation Awards Millions In New Grant Funding\n",
      "    </a>\n",
      "   </h3>\n",
      "   <p class=\"timeauthor\">\n",
      "    <time datetime=\"2018-03-08T06:10:09+00:00\">\n",
      "     Mar 8, 2018 at 06:10\n",
      "    </time>\n",
      "    |\n",
      "    <cite>\n",
      "     <a class=\"author url fn\" href=\"https://www.coindesk.com/author/nikde/\" rel=\"author\" title=\"Posts by Nikhilesh De\">\n",
      "      Nikhilesh De\n",
      "     </a>\n",
      "    </cite>\n",
      "   </p>\n",
      "   <p class=\"desc\">\n",
      "    The non-profit dedicated to advancing ethereum has awarded $2.5 million in grant funding to various projects looking to improve the ecosystem.\n",
      "   </p>\n",
      "  </div>\n",
      " </div>\n",
      " <div class=\"article medium post-317797 post type-post status-publish format-standard has-post-thumbnail hentry category-bitcoin category-news category-legal category-central-banking category-europe tag-cryptocurrency tag-bitcoin tag-decentralization tag-steve-bannon tag-alt-right tag-nationalist\" id=\"post-317797\">\n",
      "  <div class=\"picture\">\n",
      "   <a class=\"fade\" href=\"https://www.coindesk.com/steve-bannon-crypto-revolution/\" title=\"Ex-Trump Adviser Bannon Says Cryptocurrency Will Bring 'True Freedom'\">\n",
      "    <img alt=\"\" class=\" wp-post-image\" height=\"135\" sizes=\"(max-width: 200px) 100vw, 200px\" src=\"https://media.coindesk.com/uploads/2018/03/32319678963_f94d7b26cc_o-200x135.jpg\" srcset=\"https://media.coindesk.com/uploads/2018/03/32319678963_f94d7b26cc_o-200x135.jpg 200w, https://media.coindesk.com/uploads/2018/03/32319678963_f94d7b26cc_o-90x60.jpg 90w, https://media.coindesk.com/uploads/2018/03/32319678963_f94d7b26cc_o-119x79.jpg 119w\" width=\"200\"/>\n",
      "   </a>\n",
      "  </div>\n",
      "  <div class=\"post-info\">\n",
      "   <h3>\n",
      "    <a class=\"fade\" href=\"https://www.coindesk.com/steve-bannon-crypto-revolution/\" title=\"Ex-Trump Adviser Bannon Says Cryptocurrency Will Bring 'True Freedom'\">\n",
      "     Ex-Trump Adviser Bannon Says Cryptocurrency Will Bring 'True Freedom'\n",
      "    </a>\n",
      "   </h3>\n",
      "   <p class=\"timeauthor\">\n",
      "    <time datetime=\"2018-03-07T19:00:32+00:00\">\n",
      "     Mar 7, 2018 at 19:00\n",
      "    </time>\n",
      "    |\n",
      "    <cite>\n",
      "     <a class=\"author url fn\" href=\"https://www.coindesk.com/author/lcuen/\" rel=\"author\" title=\"Posts by Leigh Cuen\">\n",
      "      Leigh Cuen\n",
      "     </a>\n",
      "    </cite>\n",
      "   </p>\n",
      "   <p class=\"desc\">\n",
      "    Steve Bannon, the former White House strategist and right-wing firebrand, is now touting the liberating potential of cryptocurrency and blockchain.\n",
      "   </p>\n",
      "  </div>\n",
      " </div>\n",
      " <div class=\"article medium post-317675 post type-post status-publish format-standard has-post-thumbnail hentry category-news category-ethereum-technology-news category-technology-news tag-ethereum tag-smart-contracts tag-fujitsu\" id=\"post-317675\">\n",
      "  <div class=\"picture\">\n",
      "   <a class=\"fade\" href=\"https://www.coindesk.com/fujitsu-touts-new-tech-to-detect-ethereum-smart-contract-bugs/\" title=\"Fujitsu Touts New Tech to Detect Ethereum Smart Contract Bugs\">\n",
      "    <img alt=\"\" class=\" wp-post-image\" height=\"135\" sizes=\"(max-width: 200px) 100vw, 200px\" src=\"https://media.coindesk.com/uploads/2018/03/fujitsu-200x135.jpg\" srcset=\"https://media.coindesk.com/uploads/2018/03/fujitsu-200x135.jpg 200w, https://media.coindesk.com/uploads/2018/03/fujitsu-175x117.jpg 175w, https://media.coindesk.com/uploads/2018/03/fujitsu-728x486.jpg 728w, https://media.coindesk.com/uploads/2018/03/fujitsu-90x60.jpg 90w, https://media.coindesk.com/uploads/2018/03/fujitsu-118x79.jpg 118w\" width=\"200\"/>\n",
      "   </a>\n",
      "  </div>\n",
      "  <div class=\"post-info\">\n",
      "   <h3>\n",
      "    <a class=\"fade\" href=\"https://www.coindesk.com/fujitsu-touts-new-tech-to-detect-ethereum-smart-contract-bugs/\" title=\"Fujitsu Touts New Tech to Detect Ethereum Smart Contract Bugs\">\n",
      "     Fujitsu Touts New Tech to Detect Ethereum Smart Contract Bugs\n",
      "    </a>\n",
      "   </h3>\n",
      "   <p class=\"timeauthor\">\n",
      "    <time datetime=\"2018-03-07T09:30:04+00:00\">\n",
      "     Mar 7, 2018 at 09:30\n",
      "    </time>\n",
      "    |\n",
      "    <cite>\n",
      "     <a class=\"author url fn\" href=\"https://www.coindesk.com/author/wolfiez/\" rel=\"author\" title=\"Posts by Wolfie Zhao\">\n",
      "      Wolfie Zhao\n",
      "     </a>\n",
      "    </cite>\n",
      "   </p>\n",
      "   <p class=\"desc\">\n",
      "    Japanese IT giant Fujitsu has revealed a new technology that it says could help to mitigate problems with ethereum's smart contracts.\n",
      "   </p>\n",
      "  </div>\n",
      " </div>\n",
      " <div class=\"article medium post-317450 post type-post status-publish format-standard has-post-thumbnail hentry category-token-economy category-bitcoin category-regulation-legal category-markets-markets-news category-news category-legal category-markets-bitcoin category-technology-news category-crime tag-money-laundering tag-bitcoin-prices tag-international-monetary-fund tag-cryptocurrency-regulations\" id=\"post-317450\">\n",
      "  <div class=\"picture\">\n",
      "   <a class=\"fade\" href=\"https://www.coindesk.com/harvard-economist-bitcoin-100-drop-decade/\" title=\"Ex-IMF Economist: Bitcoin Could Drop to $100 in the Next Decade\">\n",
      "    <img alt=\"\" class=\" wp-post-image\" height=\"135\" sizes=\"(max-width: 200px) 100vw, 200px\" src=\"https://media.coindesk.com/uploads/2018/03/KR-200x135.jpg\" srcset=\"https://media.coindesk.com/uploads/2018/03/KR-200x135.jpg 200w, https://media.coindesk.com/uploads/2018/03/KR-90x60.jpg 90w, https://media.coindesk.com/uploads/2018/03/KR-119x79.jpg 119w, https://media.coindesk.com/uploads/2018/03/KR-1472x1000.jpg 1472w\" width=\"200\"/>\n",
      "   </a>\n",
      "  </div>\n",
      "  <div class=\"post-info\">\n",
      "   <h3>\n",
      "    <a class=\"fade\" href=\"https://www.coindesk.com/harvard-economist-bitcoin-100-drop-decade/\" title=\"Ex-IMF Economist: Bitcoin Could Drop to $100 in the Next Decade\">\n",
      "     Ex-IMF Economist: Bitcoin Could Drop to $100 in the Next Decade\n",
      "    </a>\n",
      "   </h3>\n",
      "   <p class=\"timeauthor\">\n",
      "    <time datetime=\"2018-03-07T03:30:30+00:00\">\n",
      "     Mar 7, 2018 at 03:30\n",
      "    </time>\n",
      "    |\n",
      "    <cite>\n",
      "     <a class=\"author url fn\" href=\"https://www.coindesk.com/author/lcuen/\" rel=\"author\" title=\"Posts by Leigh Cuen\">\n",
      "      Leigh Cuen\n",
      "     </a>\n",
      "    </cite>\n",
      "   </p>\n",
      "   <p class=\"desc\">\n",
      "    Economist Kenneth Rogoff said Tuesday that he expects bitcoin's price will decrease by 2028.\n",
      "   </p>\n",
      "  </div>\n",
      " </div>\n",
      " <div class=\"article medium post-317501 post type-post status-publish format-standard has-post-thumbnail hentry category-news category-technology-news category-security category-identity tag-twitter tag-ripple tag-scams tag-kraken tag-xrp\" id=\"post-317501\">\n",
      "  <div class=\"picture\">\n",
      "   <a class=\"fade\" href=\"https://www.coindesk.com/twitter-pledges-action-crypto-scams-account-shadow-bans/\" title=\"Twitter Pledges Action on Crypto Scams After Account Bans\">\n",
      "    <img alt=\"\" class=\" wp-post-image\" height=\"135\" sizes=\"(max-width: 200px) 100vw, 200px\" src=\"https://media.coindesk.com/uploads/2018/03/Twitter-200x135.jpg\" srcset=\"https://media.coindesk.com/uploads/2018/03/Twitter-200x135.jpg 200w, https://media.coindesk.com/uploads/2018/03/Twitter-90x60.jpg 90w, https://media.coindesk.com/uploads/2018/03/Twitter-119x79.jpg 119w, https://media.coindesk.com/uploads/2018/03/Twitter-1472x994.jpg 1472w\" width=\"200\"/>\n",
      "   </a>\n",
      "  </div>\n",
      "  <div class=\"post-info\">\n",
      "   <h3>\n",
      "    <a class=\"fade\" href=\"https://www.coindesk.com/twitter-pledges-action-crypto-scams-account-shadow-bans/\" title=\"Twitter Pledges Action on Crypto Scams After Account Bans\">\n",
      "     Twitter Pledges Action on Crypto Scams After Account Bans\n",
      "    </a>\n",
      "   </h3>\n",
      "   <p class=\"timeauthor\">\n",
      "    <time datetime=\"2018-03-06T23:00:05+00:00\">\n",
      "     Mar 6, 2018 at 23:00\n",
      "    </time>\n",
      "    |\n",
      "    <cite>\n",
      "     <a class=\"author url fn\" href=\"https://www.coindesk.com/author/lcuen/\" rel=\"author\" title=\"Posts by Leigh Cuen\">\n",
      "      Leigh Cuen\n",
      "     </a>\n",
      "    </cite>\n",
      "   </p>\n",
      "   <p class=\"desc\">\n",
      "    It's unclear how Twitter identifies which accounts to penalize for propagating cryptocurrency scams.\n",
      "   </p>\n",
      "  </div>\n",
      " </div>\n",
      " <div class=\"article medium post-317313 post type-post status-publish format-standard has-post-thumbnail hentry category-bitcoin category-news category-legal category-technology-news category-asia-pacific tag-china tag-regulators\" id=\"post-317313\">\n",
      "  <div class=\"picture\">\n",
      "   <a class=\"fade\" href=\"https://www.coindesk.com/blockchain-needs-some-centralization-says-chinese-sec-official/\" title=\"Blockchain Needs Centralization, Says Chinese SEC Official\">\n",
      "    <img alt=\"\" class=\" wp-post-image\" height=\"135\" src=\"https://media.coindesk.com/uploads/2018/03/china-securities-commission-200x135.jpg\" width=\"200\"/>\n",
      "   </a>\n",
      "  </div>\n",
      "  <div class=\"post-info\">\n",
      "   <h3>\n",
      "    <a class=\"fade\" href=\"https://www.coindesk.com/blockchain-needs-some-centralization-says-chinese-sec-official/\" title=\"Blockchain Needs Centralization, Says Chinese SEC Official\">\n",
      "     Blockchain Needs Centralization, Says Chinese SEC Official\n",
      "    </a>\n",
      "   </h3>\n",
      "   <p class=\"timeauthor\">\n",
      "    <time datetime=\"2018-03-06T10:00:59+00:00\">\n",
      "     Mar 6, 2018 at 10:00\n",
      "    </time>\n",
      "    |\n",
      "    <cite>\n",
      "     <a class=\"author url fn\" href=\"https://www.coindesk.com/author/wolfiez/\" rel=\"author\" title=\"Posts by Wolfie Zhao\">\n",
      "      Wolfie Zhao\n",
      "     </a>\n",
      "    </cite>\n",
      "   </p>\n",
      "   <p class=\"desc\">\n",
      "    An official from China's Securities Regulatory Commission has said complete decentralization is not the best way to reap blockchain's benefits.\n",
      "   </p>\n",
      "  </div>\n",
      " </div>\n",
      " <div class=\"article medium post-316957 post type-post status-publish format-standard has-post-thumbnail hentry category-features category-bitcoin category-technology-news tag-bitcoin tag-lightning-network\" id=\"post-316957\">\n",
      "  <div class=\"picture\">\n",
      "   <a class=\"fade\" href=\"https://www.coindesk.com/bitcoin-lightning-risky-maybe-ice-cream-will-tempt/\" title=\"Bitcoin on Lightning Too Risky? Maybe Ice Cream Will Tempt You\">\n",
      "    <img alt=\"ice, cream, sweets\" class=\" wp-post-image\" height=\"135\" sizes=\"(max-width: 200px) 100vw, 200px\" src=\"https://media.coindesk.com/uploads/2018/03/ice-cream-sweets-200x135.jpg\" srcset=\"https://media.coindesk.com/uploads/2018/03/ice-cream-sweets-200x135.jpg 200w, https://media.coindesk.com/uploads/2018/03/ice-cream-sweets-90x60.jpg 90w, https://media.coindesk.com/uploads/2018/03/ice-cream-sweets-119x79.jpg 119w\" width=\"200\"/>\n",
      "   </a>\n",
      "  </div>\n",
      "  <div class=\"post-info\">\n",
      "   <h3>\n",
      "    <a class=\"fade\" href=\"https://www.coindesk.com/bitcoin-lightning-risky-maybe-ice-cream-will-tempt/\" title=\"Bitcoin on Lightning Too Risky? Maybe Ice Cream Will Tempt You\">\n",
      "     Bitcoin on Lightning Too Risky? Maybe Ice Cream Will Tempt You\n",
      "    </a>\n",
      "   </h3>\n",
      "   <p class=\"timeauthor\">\n",
      "    <time datetime=\"2018-03-06T09:00:31+00:00\">\n",
      "     Mar 6, 2018 at 09:00\n",
      "    </time>\n",
      "    |\n",
      "    <cite>\n",
      "     <a class=\"author url fn\" href=\"https://www.coindesk.com/author/rachelroseoleary/\" rel=\"author\" title=\"Posts by Rachel Rose O'Leary\">\n",
      "      Rachel Rose O'Leary\n",
      "     </a>\n",
      "    </cite>\n",
      "   </p>\n",
      "   <p class=\"desc\">\n",
      "    An experimental San Francisco service is seeking to entice bitcoin users to explore the its in-development Lightning payments network.\n",
      "   </p>\n",
      "  </div>\n",
      " </div>\n",
      " <div class=\"pagination\">\n",
      "  <span class=\"current\">\n",
      "   1\n",
      "  </span>\n",
      "  <a class=\"inactive\" href=\"https://www.coindesk.com/category/technology-news/page/2/\">\n",
      "   2\n",
      "  </a>\n",
      "  <a class=\"inactive\" href=\"https://www.coindesk.com/category/technology-news/page/3/\">\n",
      "   3\n",
      "  </a>\n",
      "  <a href=\"https://www.coindesk.com/category/technology-news/page/2/\">\n",
      "   ›\n",
      "  </a>\n",
      "  <a href=\"https://www.coindesk.com/category/technology-news/page/275/\">\n",
      "   »\n",
      "  </a>\n",
      " </div>\n",
      "</div>\n",
      "\n"
     ]
    }
   ],
   "source": [
    "print(content.prettify())"
   ]
  },
  {
   "cell_type": "code",
   "execution_count": 4,
   "metadata": {
    "collapsed": false
   },
   "outputs": [
    {
     "data": {
      "text/plain": [
       "['Leigh Cuen ',\n",
       " \"Rachel Rose O'Leary \",\n",
       " \"Rachel Rose O'Leary \",\n",
       " 'Nikhilesh De ',\n",
       " 'Leigh Cuen ',\n",
       " 'Wolfie Zhao ',\n",
       " 'Leigh Cuen ',\n",
       " 'Leigh Cuen ',\n",
       " 'Wolfie Zhao ',\n",
       " \"Rachel Rose O'Leary \"]"
      ]
     },
     "execution_count": 4,
     "metadata": {},
     "output_type": "execute_result"
    }
   ],
   "source": [
    "[re.split('\\n', d.text)[2] for d in content.find_all(class_='timeauthor')]"
   ]
  },
  {
   "cell_type": "code",
   "execution_count": 5,
   "metadata": {
    "collapsed": false
   },
   "outputs": [
    {
     "data": {
      "text/plain": [
       "['', 'Mar 2, 2018 at 20:00 | ', 'Alyssa Hertig ', '']"
      ]
     },
     "execution_count": 5,
     "metadata": {},
     "output_type": "execute_result"
    }
   ],
   "source": [
    "re.split('\\n', '\\nMar 2, 2018 at 20:00 | \\nAlyssa Hertig \\n')"
   ]
  },
  {
   "cell_type": "code",
   "execution_count": 6,
   "metadata": {
    "collapsed": false
   },
   "outputs": [
    {
     "data": {
      "text/plain": [
       "['\\nMar 10, 2018 at 12:30 | \\nLeigh Cuen \\n',\n",
       " \"\\nMar 9, 2018 at 21:02 | \\nRachel Rose O'Leary \\n\",\n",
       " \"\\nMar 9, 2018 at 09:00 | \\nRachel Rose O'Leary \\n\",\n",
       " '\\nMar 8, 2018 at 06:10 | \\nNikhilesh De \\n',\n",
       " '\\nMar 7, 2018 at 19:00 | \\nLeigh Cuen \\n',\n",
       " '\\nMar 7, 2018 at 09:30 | \\nWolfie Zhao \\n',\n",
       " '\\nMar 7, 2018 at 03:30 | \\nLeigh Cuen \\n',\n",
       " '\\nMar 6, 2018 at 23:00 | \\nLeigh Cuen \\n',\n",
       " '\\nMar 6, 2018 at 10:00 | \\nWolfie Zhao \\n',\n",
       " \"\\nMar 6, 2018 at 09:00 | \\nRachel Rose O'Leary \\n\"]"
      ]
     },
     "execution_count": 6,
     "metadata": {},
     "output_type": "execute_result"
    }
   ],
   "source": [
    "[d.text for d in content.find_all(class_='timeauthor')]"
   ]
  },
  {
   "cell_type": "code",
   "execution_count": 7,
   "metadata": {
    "collapsed": false
   },
   "outputs": [
    {
     "name": "stdout",
     "output_type": "stream",
     "text": [
      "['Leigh Cuen ', \"Rachel Rose O'Leary \", \"Rachel Rose O'Leary \", 'Nikhilesh De ', 'Leigh Cuen ', 'Wolfie Zhao ', 'Leigh Cuen ', 'Leigh Cuen ', 'Wolfie Zhao ', \"Rachel Rose O'Leary \"]\n"
     ]
    },
    {
     "data": {
      "text/plain": [
       "10"
      ]
     },
     "execution_count": 7,
     "metadata": {},
     "output_type": "execute_result"
    }
   ],
   "source": [
    "date = [d.text for d in content.find_all('time')]\n",
    "author = [re.split('\\n', d.text)[2] for d in content.find_all(class_='timeauthor')]\n",
    "print(author)\n",
    "len(date)\n",
    "len(author)"
   ]
  },
  {
   "cell_type": "code",
   "execution_count": 8,
   "metadata": {
    "collapsed": true
   },
   "outputs": [],
   "source": [
    "article_info = content.find_all(class_ ='fade')\n"
   ]
  },
  {
   "cell_type": "code",
   "execution_count": 9,
   "metadata": {
    "collapsed": false
   },
   "outputs": [
    {
     "name": "stdout",
     "output_type": "stream",
     "text": [
      "['https://www.coindesk.com/bitcoin-twitter-war-raging-no-account-safe/', 'https://www.coindesk.com/vitalik-reveals-new-idea-plasma-scaling-ethereum-event/', 'https://www.coindesk.com/progress-hot-ethereum-privacy-projects-cooling-off/', 'https://www.coindesk.com/2-5m-ethereum-foundation-announces-first-wave-of-grant-funding/', 'https://www.coindesk.com/steve-bannon-crypto-revolution/', 'https://www.coindesk.com/fujitsu-touts-new-tech-to-detect-ethereum-smart-contract-bugs/', 'https://www.coindesk.com/harvard-economist-bitcoin-100-drop-decade/', 'https://www.coindesk.com/twitter-pledges-action-crypto-scams-account-shadow-bans/', 'https://www.coindesk.com/blockchain-needs-some-centralization-says-chinese-sec-official/', 'https://www.coindesk.com/bitcoin-lightning-risky-maybe-ice-cream-will-tempt/']\n",
      "['A Bitcoin Twitter War Is Raging And No Account Is Safe', 'Vitalik Reveals New Idea for Plasma Scaling On Ethereum', 'Progress Slows On Once-Hot Ethereum Privacy Projects', 'Ethereum Foundation Awards Millions In New Grant Funding', \"Ex-Trump Adviser Bannon Says Cryptocurrency Will Bring 'True Freedom'\", 'Fujitsu Touts New Tech to Detect Ethereum Smart Contract Bugs', 'Ex-IMF Economist: Bitcoin Could Drop to $100 in the Next Decade', 'Twitter Pledges Action on Crypto Scams After Account Bans', 'Blockchain Needs Centralization, Says Chinese SEC Official', 'Bitcoin on Lightning Too Risky? Maybe Ice Cream Will Tempt You']\n"
     ]
    }
   ],
   "source": [
    "#creates a list with all the links to the articles\n",
    "#we can make requests with this links\n",
    "links_list=list()\n",
    "article_names = list()\n",
    "for info in article_info:\n",
    "    link = info.get('href')\n",
    "    title = info.get('title')\n",
    "    if link not in links_list:\n",
    "        links_list.append(info.get('href'))\n",
    "    if title not in article_names:\n",
    "        article_names.append(info.get('title'))\n",
    "print(links_list)\n",
    "print(article_names)"
   ]
  },
  {
   "cell_type": "code",
   "execution_count": 10,
   "metadata": {
    "collapsed": false
   },
   "outputs": [
    {
     "data": {
      "text/html": [
       "<div>\n",
       "<style>\n",
       "    .dataframe thead tr:only-child th {\n",
       "        text-align: right;\n",
       "    }\n",
       "\n",
       "    .dataframe thead th {\n",
       "        text-align: left;\n",
       "    }\n",
       "\n",
       "    .dataframe tbody tr th {\n",
       "        vertical-align: top;\n",
       "    }\n",
       "</style>\n",
       "<table border=\"1\" class=\"dataframe\">\n",
       "  <thead>\n",
       "    <tr style=\"text-align: right;\">\n",
       "      <th></th>\n",
       "      <th>Article Name</th>\n",
       "      <th>Author</th>\n",
       "      <th>Date</th>\n",
       "      <th>Links</th>\n",
       "    </tr>\n",
       "  </thead>\n",
       "  <tbody>\n",
       "    <tr>\n",
       "      <th>0</th>\n",
       "      <td>A Bitcoin Twitter War Is Raging And No Account...</td>\n",
       "      <td>Leigh Cuen</td>\n",
       "      <td>Mar 10, 2018 at 12:30</td>\n",
       "      <td>https://www.coindesk.com/bitcoin-twitter-war-r...</td>\n",
       "    </tr>\n",
       "    <tr>\n",
       "      <th>1</th>\n",
       "      <td>Vitalik Reveals New Idea for Plasma Scaling On...</td>\n",
       "      <td>Rachel Rose O'Leary</td>\n",
       "      <td>Mar 9, 2018 at 21:02</td>\n",
       "      <td>https://www.coindesk.com/vitalik-reveals-new-i...</td>\n",
       "    </tr>\n",
       "    <tr>\n",
       "      <th>2</th>\n",
       "      <td>Progress Slows On Once-Hot Ethereum Privacy Pr...</td>\n",
       "      <td>Rachel Rose O'Leary</td>\n",
       "      <td>Mar 9, 2018 at 09:00</td>\n",
       "      <td>https://www.coindesk.com/progress-hot-ethereum...</td>\n",
       "    </tr>\n",
       "    <tr>\n",
       "      <th>3</th>\n",
       "      <td>Ethereum Foundation Awards Millions In New Gra...</td>\n",
       "      <td>Nikhilesh De</td>\n",
       "      <td>Mar 8, 2018 at 06:10</td>\n",
       "      <td>https://www.coindesk.com/2-5m-ethereum-foundat...</td>\n",
       "    </tr>\n",
       "    <tr>\n",
       "      <th>4</th>\n",
       "      <td>Ex-Trump Adviser Bannon Says Cryptocurrency Wi...</td>\n",
       "      <td>Leigh Cuen</td>\n",
       "      <td>Mar 7, 2018 at 19:00</td>\n",
       "      <td>https://www.coindesk.com/steve-bannon-crypto-r...</td>\n",
       "    </tr>\n",
       "    <tr>\n",
       "      <th>5</th>\n",
       "      <td>Fujitsu Touts New Tech to Detect Ethereum Smar...</td>\n",
       "      <td>Wolfie Zhao</td>\n",
       "      <td>Mar 7, 2018 at 09:30</td>\n",
       "      <td>https://www.coindesk.com/fujitsu-touts-new-tec...</td>\n",
       "    </tr>\n",
       "    <tr>\n",
       "      <th>6</th>\n",
       "      <td>Ex-IMF Economist: Bitcoin Could Drop to $100 i...</td>\n",
       "      <td>Leigh Cuen</td>\n",
       "      <td>Mar 7, 2018 at 03:30</td>\n",
       "      <td>https://www.coindesk.com/harvard-economist-bit...</td>\n",
       "    </tr>\n",
       "    <tr>\n",
       "      <th>7</th>\n",
       "      <td>Twitter Pledges Action on Crypto Scams After A...</td>\n",
       "      <td>Leigh Cuen</td>\n",
       "      <td>Mar 6, 2018 at 23:00</td>\n",
       "      <td>https://www.coindesk.com/twitter-pledges-actio...</td>\n",
       "    </tr>\n",
       "    <tr>\n",
       "      <th>8</th>\n",
       "      <td>Blockchain Needs Centralization, Says Chinese ...</td>\n",
       "      <td>Wolfie Zhao</td>\n",
       "      <td>Mar 6, 2018 at 10:00</td>\n",
       "      <td>https://www.coindesk.com/blockchain-needs-some...</td>\n",
       "    </tr>\n",
       "    <tr>\n",
       "      <th>9</th>\n",
       "      <td>Bitcoin on Lightning Too Risky? Maybe Ice Crea...</td>\n",
       "      <td>Rachel Rose O'Leary</td>\n",
       "      <td>Mar 6, 2018 at 09:00</td>\n",
       "      <td>https://www.coindesk.com/bitcoin-lightning-ris...</td>\n",
       "    </tr>\n",
       "  </tbody>\n",
       "</table>\n",
       "</div>"
      ],
      "text/plain": [
       "                                        Article Name                Author  \\\n",
       "0  A Bitcoin Twitter War Is Raging And No Account...           Leigh Cuen    \n",
       "1  Vitalik Reveals New Idea for Plasma Scaling On...  Rachel Rose O'Leary    \n",
       "2  Progress Slows On Once-Hot Ethereum Privacy Pr...  Rachel Rose O'Leary    \n",
       "3  Ethereum Foundation Awards Millions In New Gra...         Nikhilesh De    \n",
       "4  Ex-Trump Adviser Bannon Says Cryptocurrency Wi...           Leigh Cuen    \n",
       "5  Fujitsu Touts New Tech to Detect Ethereum Smar...          Wolfie Zhao    \n",
       "6  Ex-IMF Economist: Bitcoin Could Drop to $100 i...           Leigh Cuen    \n",
       "7  Twitter Pledges Action on Crypto Scams After A...           Leigh Cuen    \n",
       "8  Blockchain Needs Centralization, Says Chinese ...          Wolfie Zhao    \n",
       "9  Bitcoin on Lightning Too Risky? Maybe Ice Crea...  Rachel Rose O'Leary    \n",
       "\n",
       "                    Date                                              Links  \n",
       "0  Mar 10, 2018 at 12:30  https://www.coindesk.com/bitcoin-twitter-war-r...  \n",
       "1   Mar 9, 2018 at 21:02  https://www.coindesk.com/vitalik-reveals-new-i...  \n",
       "2   Mar 9, 2018 at 09:00  https://www.coindesk.com/progress-hot-ethereum...  \n",
       "3   Mar 8, 2018 at 06:10  https://www.coindesk.com/2-5m-ethereum-foundat...  \n",
       "4   Mar 7, 2018 at 19:00  https://www.coindesk.com/steve-bannon-crypto-r...  \n",
       "5   Mar 7, 2018 at 09:30  https://www.coindesk.com/fujitsu-touts-new-tec...  \n",
       "6   Mar 7, 2018 at 03:30  https://www.coindesk.com/harvard-economist-bit...  \n",
       "7   Mar 6, 2018 at 23:00  https://www.coindesk.com/twitter-pledges-actio...  \n",
       "8   Mar 6, 2018 at 10:00  https://www.coindesk.com/blockchain-needs-some...  \n",
       "9   Mar 6, 2018 at 09:00  https://www.coindesk.com/bitcoin-lightning-ris...  "
      ]
     },
     "execution_count": 10,
     "metadata": {},
     "output_type": "execute_result"
    }
   ],
   "source": [
    "#not a final dataframe \n",
    "#represents info only from the firs\n",
    "info_df = pd.DataFrame({'Date':date,\n",
    "                       'Author': author,\n",
    "                       'Article Name': article_names,\n",
    "                       'Links': links_list})\n",
    "info_df"
   ]
  },
  {
   "cell_type": "code",
   "execution_count": 11,
   "metadata": {
    "collapsed": true
   },
   "outputs": [],
   "source": [
    "#function which gets the links to articles, and saves it in the dataframe along with date, article name and author\n",
    "def get_links(http):\n",
    "    source = requests.get(http).content\n",
    "    soup = bs.BeautifulSoup(source,features='lxml')\n",
    "    content = soup.find(id='content')\n",
    "    date = [d.text for d in content.find_all('time')]\n",
    "    author = [re.split('\\n', d.text)[2] for d in content.find_all(class_='timeauthor')]\n",
    "    links_list=list()\n",
    "    article_names = list()\n",
    "    for info in article_info:\n",
    "        link = info.get('href')\n",
    "        title = info.get('title')\n",
    "        if link not in links_list:\n",
    "            links_list.append(info.get('href'))\n",
    "        if title not in article_names:\n",
    "            article_names.append(info.get('title'))\n",
    "    info_df = pd.DataFrame({'Date':date,\n",
    "                       'Author': author,\n",
    "                       'Article Name': article_names,\n",
    "                       'Links': links_list})\n",
    "    return info_df\n"
   ]
  },
  {
   "cell_type": "code",
   "execution_count": 12,
   "metadata": {
    "collapsed": false
   },
   "outputs": [
    {
     "data": {
      "text/html": [
       "<div>\n",
       "<style>\n",
       "    .dataframe thead tr:only-child th {\n",
       "        text-align: right;\n",
       "    }\n",
       "\n",
       "    .dataframe thead th {\n",
       "        text-align: left;\n",
       "    }\n",
       "\n",
       "    .dataframe tbody tr th {\n",
       "        vertical-align: top;\n",
       "    }\n",
       "</style>\n",
       "<table border=\"1\" class=\"dataframe\">\n",
       "  <thead>\n",
       "    <tr style=\"text-align: right;\">\n",
       "      <th></th>\n",
       "      <th>Article Name</th>\n",
       "      <th>Author</th>\n",
       "      <th>Date</th>\n",
       "      <th>Links</th>\n",
       "    </tr>\n",
       "  </thead>\n",
       "  <tbody>\n",
       "    <tr>\n",
       "      <th>0</th>\n",
       "      <td>A Bitcoin Twitter War Is Raging And No Account...</td>\n",
       "      <td>Leigh Cuen</td>\n",
       "      <td>Mar 10, 2018 at 12:30</td>\n",
       "      <td>https://www.coindesk.com/bitcoin-twitter-war-r...</td>\n",
       "    </tr>\n",
       "    <tr>\n",
       "      <th>1</th>\n",
       "      <td>Vitalik Reveals New Idea for Plasma Scaling On...</td>\n",
       "      <td>Rachel Rose O'Leary</td>\n",
       "      <td>Mar 9, 2018 at 21:02</td>\n",
       "      <td>https://www.coindesk.com/vitalik-reveals-new-i...</td>\n",
       "    </tr>\n",
       "    <tr>\n",
       "      <th>2</th>\n",
       "      <td>Progress Slows On Once-Hot Ethereum Privacy Pr...</td>\n",
       "      <td>Rachel Rose O'Leary</td>\n",
       "      <td>Mar 9, 2018 at 09:00</td>\n",
       "      <td>https://www.coindesk.com/progress-hot-ethereum...</td>\n",
       "    </tr>\n",
       "    <tr>\n",
       "      <th>3</th>\n",
       "      <td>Ethereum Foundation Awards Millions In New Gra...</td>\n",
       "      <td>Nikhilesh De</td>\n",
       "      <td>Mar 8, 2018 at 06:10</td>\n",
       "      <td>https://www.coindesk.com/2-5m-ethereum-foundat...</td>\n",
       "    </tr>\n",
       "    <tr>\n",
       "      <th>4</th>\n",
       "      <td>Ex-Trump Adviser Bannon Says Cryptocurrency Wi...</td>\n",
       "      <td>Leigh Cuen</td>\n",
       "      <td>Mar 7, 2018 at 19:00</td>\n",
       "      <td>https://www.coindesk.com/steve-bannon-crypto-r...</td>\n",
       "    </tr>\n",
       "    <tr>\n",
       "      <th>5</th>\n",
       "      <td>Fujitsu Touts New Tech to Detect Ethereum Smar...</td>\n",
       "      <td>Wolfie Zhao</td>\n",
       "      <td>Mar 7, 2018 at 09:30</td>\n",
       "      <td>https://www.coindesk.com/fujitsu-touts-new-tec...</td>\n",
       "    </tr>\n",
       "    <tr>\n",
       "      <th>6</th>\n",
       "      <td>Ex-IMF Economist: Bitcoin Could Drop to $100 i...</td>\n",
       "      <td>Leigh Cuen</td>\n",
       "      <td>Mar 7, 2018 at 03:30</td>\n",
       "      <td>https://www.coindesk.com/harvard-economist-bit...</td>\n",
       "    </tr>\n",
       "    <tr>\n",
       "      <th>7</th>\n",
       "      <td>Twitter Pledges Action on Crypto Scams After A...</td>\n",
       "      <td>Leigh Cuen</td>\n",
       "      <td>Mar 6, 2018 at 23:00</td>\n",
       "      <td>https://www.coindesk.com/twitter-pledges-actio...</td>\n",
       "    </tr>\n",
       "    <tr>\n",
       "      <th>8</th>\n",
       "      <td>Blockchain Needs Centralization, Says Chinese ...</td>\n",
       "      <td>Wolfie Zhao</td>\n",
       "      <td>Mar 6, 2018 at 10:00</td>\n",
       "      <td>https://www.coindesk.com/blockchain-needs-some...</td>\n",
       "    </tr>\n",
       "    <tr>\n",
       "      <th>9</th>\n",
       "      <td>Bitcoin on Lightning Too Risky? Maybe Ice Crea...</td>\n",
       "      <td>Rachel Rose O'Leary</td>\n",
       "      <td>Mar 6, 2018 at 09:00</td>\n",
       "      <td>https://www.coindesk.com/bitcoin-lightning-ris...</td>\n",
       "    </tr>\n",
       "  </tbody>\n",
       "</table>\n",
       "</div>"
      ],
      "text/plain": [
       "                                        Article Name                Author  \\\n",
       "0  A Bitcoin Twitter War Is Raging And No Account...           Leigh Cuen    \n",
       "1  Vitalik Reveals New Idea for Plasma Scaling On...  Rachel Rose O'Leary    \n",
       "2  Progress Slows On Once-Hot Ethereum Privacy Pr...  Rachel Rose O'Leary    \n",
       "3  Ethereum Foundation Awards Millions In New Gra...         Nikhilesh De    \n",
       "4  Ex-Trump Adviser Bannon Says Cryptocurrency Wi...           Leigh Cuen    \n",
       "5  Fujitsu Touts New Tech to Detect Ethereum Smar...          Wolfie Zhao    \n",
       "6  Ex-IMF Economist: Bitcoin Could Drop to $100 i...           Leigh Cuen    \n",
       "7  Twitter Pledges Action on Crypto Scams After A...           Leigh Cuen    \n",
       "8  Blockchain Needs Centralization, Says Chinese ...          Wolfie Zhao    \n",
       "9  Bitcoin on Lightning Too Risky? Maybe Ice Crea...  Rachel Rose O'Leary    \n",
       "\n",
       "                    Date                                              Links  \n",
       "0  Mar 10, 2018 at 12:30  https://www.coindesk.com/bitcoin-twitter-war-r...  \n",
       "1   Mar 9, 2018 at 21:02  https://www.coindesk.com/vitalik-reveals-new-i...  \n",
       "2   Mar 9, 2018 at 09:00  https://www.coindesk.com/progress-hot-ethereum...  \n",
       "3   Mar 8, 2018 at 06:10  https://www.coindesk.com/2-5m-ethereum-foundat...  \n",
       "4   Mar 7, 2018 at 19:00  https://www.coindesk.com/steve-bannon-crypto-r...  \n",
       "5   Mar 7, 2018 at 09:30  https://www.coindesk.com/fujitsu-touts-new-tec...  \n",
       "6   Mar 7, 2018 at 03:30  https://www.coindesk.com/harvard-economist-bit...  \n",
       "7   Mar 6, 2018 at 23:00  https://www.coindesk.com/twitter-pledges-actio...  \n",
       "8   Mar 6, 2018 at 10:00  https://www.coindesk.com/blockchain-needs-some...  \n",
       "9   Mar 6, 2018 at 09:00  https://www.coindesk.com/bitcoin-lightning-ris...  "
      ]
     },
     "execution_count": 12,
     "metadata": {},
     "output_type": "execute_result"
    }
   ],
   "source": [
    "get_links('https://www.coindesk.com/category/technology-news/')  #works"
   ]
  },
  {
   "cell_type": "code",
   "execution_count": 54,
   "metadata": {
    "collapsed": true
   },
   "outputs": [],
   "source": [
    "src = requests.get('https://www.coindesk.com/bitcoin-twitter-war-raging-no-account-safe/').content\n",
    "sp = bs.BeautifulSoup(src,features='lxml')\n",
    "cnt = sp.find(class_='article-content-container noskimwords')\n",
    "ttl = sp.find('head')"
   ]
  },
  {
   "cell_type": "code",
   "execution_count": 55,
   "metadata": {
    "collapsed": false
   },
   "outputs": [
    {
     "data": {
      "text/plain": [
       "['A Bitcoin Twitter War Is Raging And No Account Is Safe - CoinDesk']"
      ]
     },
     "execution_count": 55,
     "metadata": {},
     "output_type": "execute_result"
    }
   ],
   "source": [
    "[d.text for d in ttl.find_all('title')]"
   ]
  },
  {
   "cell_type": "code",
   "execution_count": 56,
   "metadata": {
    "collapsed": false
   },
   "outputs": [
    {
     "data": {
      "text/plain": [
       "'\"Paging @Bitcoin. These tweets don\\'t help anyone.\" At first glance, the tweet, from investor and entrepreneur Nick Tomaino, might not be distinguishable in the all-out flame war that crypto Twitter - and all crypto social media - has become. But while the situation has long been simmering, Tomaino\\'s tweet comes at what might be a new boiling point, following what was arguably the account\\'s most controversial message in history. The Bitcoin Core (BTC) community relies on internet hate mobs, trolls, sockpuppets, censorship, DDoS attacks, vote manipulation, harassment and character assassinations.  The Bitcoin (BCH) community is welcoming, supportive, and appreciates freedom. Which do you prefer? — Bitcoin (@Bitcoin) March 8, 2018  Issued Wednesday, the tweet found @bitcoin sending a message to its more than 800,000 followers that, as Tomaino\\'s tweet shows, even impartial observers would admit was incendiary, attacking the group that maintains the cryptocurrency\\'s most widely used software and promoting an alternative cryptocurrency that split off last year. But for some, the tweet was merely a confirmation of what was already clear - the account has passed over to new ownership that appears to have the intent of pushing a controversial view. Indeed, for several months, the current @bitcoin administrator has arguably been promoting bitcoin cash instead of the original cryptocurrency, posting content that, at the very least, seems subversive to today\\'s mainstream view of technical development. And this has marked a sharp change from years past. Launched in 2011,\\xa0@bitcoin has long been tweeting basic cryptocurrency tips and news, and the anonymous account has had several administrators over the years. CoinDesk itself even leased the handle from 2013 to 2016, but amidst leadership changes, any agreements with any individual that may have been in place have long since gone missing. (Emails to CoinDesk\\'s former ownership\\xa0and executives have gone unreturned.) Still, the recent tweets aren\\'t just happening in isolation, coming at a time when Twitter has seen a dramatic uptick in\\xa0cryptocurrency scams across the platform broadly, from fraudulent verified accounts\\xa0to a general increase in copycat accounts. Escalating the situation, dozens of crypto accounts were suddenly suspended or \"shadowbanned\" this week, meaning their posts have in some cases disappeared from searches and followers\\' feeds. RoBhat Labs co-founder Ash Bhat, who makes social media tools to identify bots and propaganda, told CoinDesk that he believes the social media giant is failing to protect its user experience from manipulative campaigns and bots. Bhat said: \"You essentially have voices and opinions being amplified that don\\'t represent the human user base. From Twitter\\'s bottomline perspective, this is horrendous.\" Adding interest to the story is that, far from ignoring the problem, Twitter\\'s leadership has been outspoken about the role it\\'s now playing in cryptocurrency discourse. In a blog post in November, Twitter touted its place in the conversation, highlighting the notable individuals that have tweeted about bitcoin, while pointing to charts and data that indicated the size of the conversation was among its fastest-growing.  \"We\\'re seeing Bitcoin ($BTC) conversation volume alone exceeding that of the FANG stocks (Facebook $FB, Apple $AAPL, Netflix $NFLX, Google $GOOG) on a daily basis,\" the company wrote. Against this backdrop, Twitter appears to be taking steps to defend its position amidst the recent controversies. Twitter CEO Jack Dorsey posted a series of tweets last week expressing concerns about the platform\\'s ability to offer a beneficial service. On Thursday, he appeared on video suggesting one way to curtail digital coin scams would be to verify all user accounts, or at least open the option to all accounts. Creating a norm where people need to verify facts about themselves would almost be reminiscent of Facebook\\'s \"real name\" policy, which is controversial and widely criticized. Still, Twitter\\'s formal statement about cryptocurrency scams was less clear about what might be ahead. \"We\\'re aware of this form of manipulation and are proactively implementing a number of signals to prevent these types of accounts from engaging with others in a deceptive manner,\" the company told CoinDesk in a press statement. But both comments provide evidence that, in shutting down and shadowbanning multiple crypto-related accounts, the company acknowledges it finds itself in the middle of determining just what accounts for malicious behavior when discussing emerging technology. Some bitcoin traditionalists, like Bitcoin Core advocate Peter Todd, for example, are reporting @bitcoin for allegedly misrepresenting bitcoin, and Twitter\\'s response to Todd has been that @bitcoin\\'s tone violated the platform\\'s policies. But as the exchange between Todd and Twitter shows, when it comes to cryptocurrency, it can be tricky to distinguish moderation from censorship. Eliminating bots is almost a universal goal. However, restricting people, organizations and anonymous educational accounts like @bitcoin are a different matter entirely. How should Twitter define deception or manipulation when discussing amorphous ideas? Todd believes the line between shilling and spreading misinformation is elusive at best. \"Suppose I\\'m a IOTA supporter. I can silence my critics by falsely reporting them, and hoping Twitter\\'s AI interprets that as a reason to shadowban someone ... The @bitcoin account is a great example: knowing if that should be banned is a seriously tricky problem that requires a lot of industry-specific knowledge,\" he said. Cryptocurrency analyst and investor Brad Mills is another Twitter user who discovered the dangers of algorithmic moderation firsthand. For months, he has played an active role in the debate about what defines bitcoin as an idea, but shortly after Dorsey tweeted Twitter will curb cryptocurrency scams, Mills\\' account was abruptly suspended for two days. Still, as his comments showcase, determining well-intentioned and malicious behavior can be difficult, especially when from an outside perspective, both appear the same. He told CoinDesk: \"The people who seem to have been banned were heavily in the debate about bitcoin versus bitcoin cash. But the other interesting thing is we\\'ve all been reporting those phishing accounts like crazy. So, we probably have both received reports, blocked by people on the other side of the debate and we\\'ve been giving an access of reports and blocks to all those phishing accounts.\" The result is that Bhat believes Twitter needs to be more active about getting user feedback to help algorithms distinguish bots from opinionated people. However, Kat Lo, a PhD student researching online moderation at the University of California Irvine, agreed, going so far as to argue that deploying both software and a team of human moderators with industry-specific knowledge could provide a better solution. \"A major obstacle in many of these cases is that a lot of moderation judgement relies on context, and most moderation systems intended for large-scale platforms don\\'t incorporate significant context into their review process,\" she said. But the problem isn\\'t unique to bitcoin. Other cryptocurrency communities, such as those that have formed around ETH, XRP, NEO\\xa0 and other large cryptocurrencies, voluntarily promote the products and services of investable assets, often in a way that borders on outright spam. But Todd went on to showcase just how difficult it would be for even humans hired by Twitter to moderate the ongoing debate. To Todd, an outspoken bitcoin maximalist, any and all crypto assets that aren\\'t based on bitcoin\\'s pioneering proof-of-work are likely scams. In this way, Todd doesn\\'t mind some level of shadowbanning, just as long as it favors his preference, and that means having a lot less people\\xa0constantly promoting specific tokens. \"Those accounts are annoying and detract from my Twitter experience,\" Todd said. \"Hiding their tweets to me would be a benefit, and something I\\'d like.\" One Twitter user who experienced a temporary shadowban on Tuesday, @Joebwankanobee, told CoinDesk subjective moderation doesn\\'t help cryptocurrency communities. In fact, the lack of censorship is precisely why he prefers Twitter over other platforms. \"While I understand that\\'s frustrating, I also firmly believe that someone should be doing their own research on something and that they alone are responsible for the moves they make with their money,\" @Joebwankanobee said. And there is reason to support his belief that Facebook has been perhaps too restrictive - in January, the social media giant announced a new policy banning advertisements for bitcoin, initial coin offerings and other types of cryptocurrency. But Twitter\\'s specific problem might go a bit further than Facebook\\'s. After all, in some cases, the specific messages that are falling afoul of users may amount to advertisements, but they\\'re also statements supposedly being made by individuals. As such, some cryptocurrency fans have come to believe the problem lies with centralized media infrastructures in which management and moderation falls to a central authority, in this case Twitter and Facebook. Muneeb Ali, co-founder of the decentralized internet project Blockstack, told CoinDesk: \"Twitter\\'s response to banning bots has been to ban real accounts, some with tens of thousands of followers, leaving innocent people defenseless against imitators and ultimately stifling freedom of speech ... Twitter is a public utility that is too precious to remain centralized.\" Already, Ali said, developers are working to build decentralized versions of social media that would run on the open-source technology it is developing. As the situation with crypto Twitter shows, decentralization may be able to offer benefits. The main \"defense\" Twitter users have against censorship today is to get verified and reactively appeal restrictions, but these options favor celebrities and brands over regular individuals. But such solutions might not help any problems today. With Twitter yet to clarify how it finds and defines abusive behavior related to cryptocurrency, many users will be left with the fear of losing their brand platforms by participating in a game without clear rules or referees. Broken keyboard image via Shutterstock \\nThe leader in blockchain news, CoinDesk is a media outlet that strives for the highest journalistic standards and abides by a strict set of editorial policies. CoinDesk is an independent operating subsidiary of Digital Currency Group, which invests in cryptocurrencies and blockchain startups.\\n\\n'"
      ]
     },
     "execution_count": 56,
     "metadata": {},
     "output_type": "execute_result"
    }
   ],
   "source": [
    "a=[d.text for d in cnt.find_all('p')]\n",
    "\" \".join(a)"
   ]
  },
  {
   "cell_type": "code",
   "execution_count": 57,
   "metadata": {
    "collapsed": true
   },
   "outputs": [],
   "source": [
    "#gets the text of the article, return string\n",
    "def get_article(http):\n",
    "    src = requests.get(http).content\n",
    "    sp = bs.BeautifulSoup(src,features='lxml')\n",
    "    cnt = sp.find_all('p')\n",
    "    a=[d.text for d in cnt]\n",
    "    text = \" _______ \".join(a)\n",
    "    return text"
   ]
  },
  {
   "cell_type": "code",
   "execution_count": 58,
   "metadata": {
    "collapsed": true
   },
   "outputs": [],
   "source": [
    "text = [get_article(l) for l in info_df.Links]"
   ]
  },
  {
   "cell_type": "code",
   "execution_count": 59,
   "metadata": {
    "collapsed": true
   },
   "outputs": [],
   "source": [
    "info_df['Text'] = text"
   ]
  },
  {
   "cell_type": "code",
   "execution_count": 60,
   "metadata": {
    "collapsed": false
   },
   "outputs": [
    {
     "data": {
      "text/html": [
       "<div>\n",
       "<style>\n",
       "    .dataframe thead tr:only-child th {\n",
       "        text-align: right;\n",
       "    }\n",
       "\n",
       "    .dataframe thead th {\n",
       "        text-align: left;\n",
       "    }\n",
       "\n",
       "    .dataframe tbody tr th {\n",
       "        vertical-align: top;\n",
       "    }\n",
       "</style>\n",
       "<table border=\"1\" class=\"dataframe\">\n",
       "  <thead>\n",
       "    <tr style=\"text-align: right;\">\n",
       "      <th></th>\n",
       "      <th>Article Name</th>\n",
       "      <th>Author</th>\n",
       "      <th>Date</th>\n",
       "      <th>Links</th>\n",
       "      <th>Text</th>\n",
       "    </tr>\n",
       "  </thead>\n",
       "  <tbody>\n",
       "    <tr>\n",
       "      <th>0</th>\n",
       "      <td>A Bitcoin Twitter War Is Raging And No Account...</td>\n",
       "      <td>Leigh Cuen</td>\n",
       "      <td>Mar 10, 2018 at 12:30</td>\n",
       "      <td>https://www.coindesk.com/bitcoin-twitter-war-r...</td>\n",
       "      <td>\"Paging @Bitcoin. These tweets don't help anyo...</td>\n",
       "    </tr>\n",
       "    <tr>\n",
       "      <th>1</th>\n",
       "      <td>Vitalik Reveals New Idea for Plasma Scaling On...</td>\n",
       "      <td>Rachel Rose O'Leary</td>\n",
       "      <td>Mar 9, 2018 at 21:02</td>\n",
       "      <td>https://www.coindesk.com/vitalik-reveals-new-i...</td>\n",
       "      <td>In a surprise appearance at the ethereum commu...</td>\n",
       "    </tr>\n",
       "    <tr>\n",
       "      <th>2</th>\n",
       "      <td>Progress Slows On Once-Hot Ethereum Privacy Pr...</td>\n",
       "      <td>Rachel Rose O'Leary</td>\n",
       "      <td>Mar 9, 2018 at 09:00</td>\n",
       "      <td>https://www.coindesk.com/progress-hot-ethereum...</td>\n",
       "      <td>Ethereum's moon math is showing signs of comin...</td>\n",
       "    </tr>\n",
       "    <tr>\n",
       "      <th>3</th>\n",
       "      <td>Ethereum Foundation Awards Millions In New Gra...</td>\n",
       "      <td>Nikhilesh De</td>\n",
       "      <td>Mar 8, 2018 at 06:10</td>\n",
       "      <td>https://www.coindesk.com/2-5m-ethereum-foundat...</td>\n",
       "      <td>The non-profit dedicated to advancing and main...</td>\n",
       "    </tr>\n",
       "    <tr>\n",
       "      <th>4</th>\n",
       "      <td>Ex-Trump Adviser Bannon Says Cryptocurrency Wi...</td>\n",
       "      <td>Leigh Cuen</td>\n",
       "      <td>Mar 7, 2018 at 19:00</td>\n",
       "      <td>https://www.coindesk.com/steve-bannon-crypto-r...</td>\n",
       "      <td>Steve Bannon, the former aide to President Don...</td>\n",
       "    </tr>\n",
       "    <tr>\n",
       "      <th>5</th>\n",
       "      <td>Fujitsu Touts New Tech to Detect Ethereum Smar...</td>\n",
       "      <td>Wolfie Zhao</td>\n",
       "      <td>Mar 7, 2018 at 09:30</td>\n",
       "      <td>https://www.coindesk.com/fujitsu-touts-new-tec...</td>\n",
       "      <td>Japanese IT giant Fujitsu has revealed a new t...</td>\n",
       "    </tr>\n",
       "    <tr>\n",
       "      <th>6</th>\n",
       "      <td>Ex-IMF Economist: Bitcoin Could Drop to $100 i...</td>\n",
       "      <td>Leigh Cuen</td>\n",
       "      <td>Mar 7, 2018 at 03:30</td>\n",
       "      <td>https://www.coindesk.com/harvard-economist-bit...</td>\n",
       "      <td>A well-known economist has predicted a steep d...</td>\n",
       "    </tr>\n",
       "    <tr>\n",
       "      <th>7</th>\n",
       "      <td>Twitter Pledges Action on Crypto Scams After A...</td>\n",
       "      <td>Leigh Cuen</td>\n",
       "      <td>Mar 6, 2018 at 23:00</td>\n",
       "      <td>https://www.coindesk.com/twitter-pledges-actio...</td>\n",
       "      <td>Social media giant Twitter appears to be crack...</td>\n",
       "    </tr>\n",
       "    <tr>\n",
       "      <th>8</th>\n",
       "      <td>Blockchain Needs Centralization, Says Chinese ...</td>\n",
       "      <td>Wolfie Zhao</td>\n",
       "      <td>Mar 6, 2018 at 10:00</td>\n",
       "      <td>https://www.coindesk.com/blockchain-needs-some...</td>\n",
       "      <td>An official from one of China's financial regu...</td>\n",
       "    </tr>\n",
       "    <tr>\n",
       "      <th>9</th>\n",
       "      <td>Bitcoin on Lightning Too Risky? Maybe Ice Crea...</td>\n",
       "      <td>Rachel Rose O'Leary</td>\n",
       "      <td>Mar 6, 2018 at 09:00</td>\n",
       "      <td>https://www.coindesk.com/bitcoin-lightning-ris...</td>\n",
       "      <td>I scream. You scream. Crypto screams for ice c...</td>\n",
       "    </tr>\n",
       "  </tbody>\n",
       "</table>\n",
       "</div>"
      ],
      "text/plain": [
       "                                        Article Name                Author  \\\n",
       "0  A Bitcoin Twitter War Is Raging And No Account...           Leigh Cuen    \n",
       "1  Vitalik Reveals New Idea for Plasma Scaling On...  Rachel Rose O'Leary    \n",
       "2  Progress Slows On Once-Hot Ethereum Privacy Pr...  Rachel Rose O'Leary    \n",
       "3  Ethereum Foundation Awards Millions In New Gra...         Nikhilesh De    \n",
       "4  Ex-Trump Adviser Bannon Says Cryptocurrency Wi...           Leigh Cuen    \n",
       "5  Fujitsu Touts New Tech to Detect Ethereum Smar...          Wolfie Zhao    \n",
       "6  Ex-IMF Economist: Bitcoin Could Drop to $100 i...           Leigh Cuen    \n",
       "7  Twitter Pledges Action on Crypto Scams After A...           Leigh Cuen    \n",
       "8  Blockchain Needs Centralization, Says Chinese ...          Wolfie Zhao    \n",
       "9  Bitcoin on Lightning Too Risky? Maybe Ice Crea...  Rachel Rose O'Leary    \n",
       "\n",
       "                    Date                                              Links  \\\n",
       "0  Mar 10, 2018 at 12:30  https://www.coindesk.com/bitcoin-twitter-war-r...   \n",
       "1   Mar 9, 2018 at 21:02  https://www.coindesk.com/vitalik-reveals-new-i...   \n",
       "2   Mar 9, 2018 at 09:00  https://www.coindesk.com/progress-hot-ethereum...   \n",
       "3   Mar 8, 2018 at 06:10  https://www.coindesk.com/2-5m-ethereum-foundat...   \n",
       "4   Mar 7, 2018 at 19:00  https://www.coindesk.com/steve-bannon-crypto-r...   \n",
       "5   Mar 7, 2018 at 09:30  https://www.coindesk.com/fujitsu-touts-new-tec...   \n",
       "6   Mar 7, 2018 at 03:30  https://www.coindesk.com/harvard-economist-bit...   \n",
       "7   Mar 6, 2018 at 23:00  https://www.coindesk.com/twitter-pledges-actio...   \n",
       "8   Mar 6, 2018 at 10:00  https://www.coindesk.com/blockchain-needs-some...   \n",
       "9   Mar 6, 2018 at 09:00  https://www.coindesk.com/bitcoin-lightning-ris...   \n",
       "\n",
       "                                                Text  \n",
       "0  \"Paging @Bitcoin. These tweets don't help anyo...  \n",
       "1  In a surprise appearance at the ethereum commu...  \n",
       "2  Ethereum's moon math is showing signs of comin...  \n",
       "3  The non-profit dedicated to advancing and main...  \n",
       "4  Steve Bannon, the former aide to President Don...  \n",
       "5  Japanese IT giant Fujitsu has revealed a new t...  \n",
       "6  A well-known economist has predicted a steep d...  \n",
       "7  Social media giant Twitter appears to be crack...  \n",
       "8  An official from one of China's financial regu...  \n",
       "9  I scream. You scream. Crypto screams for ice c...  "
      ]
     },
     "execution_count": 60,
     "metadata": {},
     "output_type": "execute_result"
    }
   ],
   "source": [
    "info_df"
   ]
  },
  {
   "cell_type": "code",
   "execution_count": 61,
   "metadata": {
    "collapsed": false
   },
   "outputs": [
    {
     "data": {
      "text/plain": [
       "'\"Paging @Bitcoin. These tweets don\\'t help anyone.\" _______ At first glance, the tweet, from investor and entrepreneur Nick Tomaino, might not be distinguishable in the all-out flame war that crypto Twitter - and all crypto social media - has become. _______ But while the situation has long been simmering, Tomaino\\'s tweet comes at what might be a new boiling point, following what was arguably the account\\'s most controversial message in history. _______ The Bitcoin Core (BTC) community relies on internet hate mobs, trolls, sockpuppets, censorship, DDoS attacks, vote manipulation, harassment and character assassinations.  _______ The Bitcoin (BCH) community is welcoming, supportive, and appreciates freedom. _______ Which do you prefer? _______ — Bitcoin (@Bitcoin) March 8, 2018 _______  _______ Issued Wednesday, the tweet found @bitcoin sending a message to its more than 800,000 followers that, as Tomaino\\'s tweet shows, even impartial observers would admit was incendiary, attacking the group that maintains the cryptocurrency\\'s most widely used software and promoting an alternative cryptocurrency that split off last year. _______ But for some, the tweet was merely a confirmation of what was already clear - the account has passed over to new ownership that appears to have the intent of pushing a controversial view. _______ Indeed, for several months, the current @bitcoin administrator has arguably been promoting bitcoin cash instead of the original cryptocurrency, posting content that, at the very least, seems subversive to today\\'s mainstream view of technical development. _______ And this has marked a sharp change from years past. _______ Launched in 2011,\\xa0@bitcoin has long been tweeting basic cryptocurrency tips and news, and the anonymous account has had several administrators over the years. _______ CoinDesk itself even leased the handle from 2013 to 2016, but amidst leadership changes, any agreements with any individual that may have been in place have long since gone missing. (Emails to CoinDesk\\'s former ownership\\xa0and executives have gone unreturned.) _______ Still, the recent tweets aren\\'t just happening in isolation, coming at a time when Twitter has seen a dramatic uptick in\\xa0cryptocurrency scams across the platform broadly, from fraudulent verified accounts\\xa0to a general increase in copycat accounts. _______ Escalating the situation, dozens of crypto accounts were suddenly suspended or \"shadowbanned\" this week, meaning their posts have in some cases disappeared from searches and followers\\' feeds. _______ RoBhat Labs co-founder Ash Bhat, who makes social media tools to identify bots and propaganda, told CoinDesk that he believes the social media giant is failing to protect its user experience from manipulative campaigns and bots. _______ Bhat said: _______ \"You essentially have voices and opinions being amplified that don\\'t represent the human user base. From Twitter\\'s bottomline perspective, this is horrendous.\" _______ Adding interest to the story is that, far from ignoring the problem, Twitter\\'s leadership has been outspoken about the role it\\'s now playing in cryptocurrency discourse. _______ In a blog post in November, Twitter touted its place in the conversation, highlighting the notable individuals that have tweeted about bitcoin, while pointing to charts and data that indicated the size of the conversation was among its fastest-growing. _______  _______ \"We\\'re seeing Bitcoin ($BTC) conversation volume alone exceeding that of the FANG stocks (Facebook $FB, Apple $AAPL, Netflix $NFLX, Google $GOOG) on a daily basis,\" the company wrote. _______ Against this backdrop, Twitter appears to be taking steps to defend its position amidst the recent controversies. _______ Twitter CEO Jack Dorsey posted a series of tweets last week expressing concerns about the platform\\'s ability to offer a beneficial service. On Thursday, he appeared on video suggesting one way to curtail digital coin scams would be to verify all user accounts, or at least open the option to all accounts. _______ Creating a norm where people need to verify facts about themselves would almost be reminiscent of Facebook\\'s \"real name\" policy, which is controversial and widely criticized. _______ Still, Twitter\\'s formal statement about cryptocurrency scams was less clear about what might be ahead. _______ \"We\\'re aware of this form of manipulation and are proactively implementing a number of signals to prevent these types of accounts from engaging with others in a deceptive manner,\" the company told CoinDesk in a press statement. _______ But both comments provide evidence that, in shutting down and shadowbanning multiple crypto-related accounts, the company acknowledges it finds itself in the middle of determining just what accounts for malicious behavior when discussing emerging technology. _______ Some bitcoin traditionalists, like Bitcoin Core advocate Peter Todd, for example, are reporting @bitcoin for allegedly misrepresenting bitcoin, and Twitter\\'s response to Todd has been that @bitcoin\\'s tone violated the platform\\'s policies. _______ But as the exchange between Todd and Twitter shows, when it comes to cryptocurrency, it can be tricky to distinguish moderation from censorship. _______ Eliminating bots is almost a universal goal. However, restricting people, organizations and anonymous educational accounts like @bitcoin are a different matter entirely. How should Twitter define deception or manipulation when discussing amorphous ideas? _______ Todd believes the line between shilling and spreading misinformation is elusive at best. _______ \"Suppose I\\'m a IOTA supporter. I can silence my critics by falsely reporting them, and hoping Twitter\\'s AI interprets that as a reason to shadowban someone ... The @bitcoin account is a great example: knowing if that should be banned is a seriously tricky problem that requires a lot of industry-specific knowledge,\" he said. _______ Cryptocurrency analyst and investor Brad Mills is another Twitter user who discovered the dangers of algorithmic moderation firsthand. _______ For months, he has played an active role in the debate about what defines bitcoin as an idea, but shortly after Dorsey tweeted Twitter will curb cryptocurrency scams, Mills\\' account was abruptly suspended for two days. _______ Still, as his comments showcase, determining well-intentioned and malicious behavior can be difficult, especially when from an outside perspective, both appear the same. _______ He told CoinDesk: _______ \"The people who seem to have been banned were heavily in the debate about bitcoin versus bitcoin cash. But the other interesting thing is we\\'ve all been reporting those phishing accounts like crazy. So, we probably have both received reports, blocked by people on the other side of the debate and we\\'ve been giving an access of reports and blocks to all those phishing accounts.\" _______ The result is that Bhat believes Twitter needs to be more active about getting user feedback to help algorithms distinguish bots from opinionated people. _______ However, Kat Lo, a PhD student researching online moderation at the University of California Irvine, agreed, going so far as to argue that deploying both software and a team of human moderators with industry-specific knowledge could provide a better solution. _______ \"A major obstacle in many of these cases is that a lot of moderation judgement relies on context, and most moderation systems intended for large-scale platforms don\\'t incorporate significant context into their review process,\" she said. _______ But the problem isn\\'t unique to bitcoin. _______ Other cryptocurrency communities, such as those that have formed around ETH, XRP, NEO\\xa0 and other large cryptocurrencies, voluntarily promote the products and services of investable assets, often in a way that borders on outright spam. _______ But Todd went on to showcase just how difficult it would be for even humans hired by Twitter to moderate the ongoing debate. To Todd, an outspoken bitcoin maximalist, any and all crypto assets that aren\\'t based on bitcoin\\'s pioneering proof-of-work are likely scams. _______ In this way, Todd doesn\\'t mind some level of shadowbanning, just as long as it favors his preference, and that means having a lot less people\\xa0constantly promoting specific tokens. _______ \"Those accounts are annoying and detract from my Twitter experience,\" Todd said. \"Hiding their tweets to me would be a benefit, and something I\\'d like.\" _______ One Twitter user who experienced a temporary shadowban on Tuesday, @Joebwankanobee, told CoinDesk subjective moderation doesn\\'t help cryptocurrency communities. _______ In fact, the lack of censorship is precisely why he prefers Twitter over other platforms. _______ \"While I understand that\\'s frustrating, I also firmly believe that someone should be doing their own research on something and that they alone are responsible for the moves they make with their money,\" @Joebwankanobee said. _______ And there is reason to support his belief that Facebook has been perhaps too restrictive - in January, the social media giant announced a new policy banning advertisements for bitcoin, initial coin offerings and other types of cryptocurrency. _______ But Twitter\\'s specific problem might go a bit further than Facebook\\'s. _______ After all, in some cases, the specific messages that are falling afoul of users may amount to advertisements, but they\\'re also statements supposedly being made by individuals. _______ As such, some cryptocurrency fans have come to believe the problem lies with centralized media infrastructures in which management and moderation falls to a central authority, in this case Twitter and Facebook. _______ Muneeb Ali, co-founder of the decentralized internet project Blockstack, told CoinDesk: _______ \"Twitter\\'s response to banning bots has been to ban real accounts, some with tens of thousands of followers, leaving innocent people defenseless against imitators and ultimately stifling freedom of speech ... Twitter is a public utility that is too precious to remain centralized.\" _______ Already, Ali said, developers are working to build decentralized versions of social media that would run on the open-source technology it is developing. _______ As the situation with crypto Twitter shows, decentralization may be able to offer benefits. The main \"defense\" Twitter users have against censorship today is to get verified and reactively appeal restrictions, but these options favor celebrities and brands over regular individuals. _______ But such solutions might not help any problems today. _______ With Twitter yet to clarify how it finds and defines abusive behavior related to cryptocurrency, many users will be left with the fear of losing their brand platforms by participating in a game without clear rules or referees. _______ Broken keyboard image via Shutterstock _______ \\nThe leader in blockchain news, CoinDesk is a media outlet that strives for the highest journalistic standards and abides by a strict set of editorial policies. CoinDesk is an independent operating subsidiary of Digital Currency Group, which invests in cryptocurrencies and blockchain startups.\\n\\n _______ TwitterBitcoinBitcoin CashJack Dorsey _______ Mar 9, 2018 at 21:45 | Leigh Cuen _______ The finance minister of the Netherlands has called for new regulations around cryptocurrencies and initial coin offerings.  _______ Mar 9, 2018 at 14:00 | Omkar Godbole _______ How bad were the crypto markets this week? Bitcoin lost nearly one-quarter of its value and it still wasn\\'t the week\\'s big loser. _______ Mar 9, 2018 at 10:00 | Omkar Godbole _______ Bitcoin\\'s 28 percent drop this week has turned the tide in favor of the bears, but a sustained break below $8,000 looks unlikely in the short-run. _______ Mar 9, 2018 at 05:20 | Wolfie Zhao _______ Bitcoin has reached 20-day low at $8,587 after having dropped for $500 within an hour. _______  _______  _______ Who should be most fearful after the SEC’s DAO token sale ruling? _______  _______ \\nI would like to receive the following emails:\\n\\n CoinDesk Weekly - Insights for the week ahead\\n\\n\\n CoinDesk Daily - Our snapshot of the day\\'s news\\n\\n _______ Subscribe to our free newsletter and follow us'"
      ]
     },
     "execution_count": 61,
     "metadata": {},
     "output_type": "execute_result"
    }
   ],
   "source": [
    "info_df.Text[0]"
   ]
  },
  {
   "cell_type": "code",
   "execution_count": null,
   "metadata": {
    "collapsed": true
   },
   "outputs": [],
   "source": []
  },
  {
   "cell_type": "code",
   "execution_count": null,
   "metadata": {
    "collapsed": true
   },
   "outputs": [],
   "source": []
  }
 ],
 "metadata": {
  "kernelspec": {
   "display_name": "Python 3",
   "language": "python",
   "name": "python3"
  },
  "language_info": {
   "codemirror_mode": {
    "name": "ipython",
    "version": 3
   },
   "file_extension": ".py",
   "mimetype": "text/x-python",
   "name": "python",
   "nbconvert_exporter": "python",
   "pygments_lexer": "ipython3",
   "version": "3.6.4"
  }
 },
 "nbformat": 4,
 "nbformat_minor": 2
}
