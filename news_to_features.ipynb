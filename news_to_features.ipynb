{
 "cells": [
  {
   "cell_type": "code",
   "execution_count": 1,
   "metadata": {},
   "outputs": [],
   "source": [
    "## Import Packages and Libraries ##\n",
    "\n",
    "# Web parcing, scraping, etc.\n",
    "import bs4 as bs # BeautifulSoup4 \n",
    "import urllib3\n",
    "import re\n",
    "import requests # HTTP parser\n",
    "import html5lib\n",
    "\n",
    "# DataFrames and math\n",
    "import pandas as pd\n",
    "import numpy as np\n",
    "\n",
    "# Output related packages \n",
    "import pprint as pp\n",
    "import json\n",
    "\n",
    "# Progress bar and delaying requests \n",
    "from tqdm import tnrange, tqdm_notebook #progress bars\n",
    "from random import randint\n",
    "import datetime\n",
    "import time"
   ]
  },
  {
   "cell_type": "code",
   "execution_count": 2,
   "metadata": {},
   "outputs": [
    {
     "data": {
      "text/html": [
       "<style>.container { width:90% !important; }</style>"
      ],
      "text/plain": [
       "<IPython.core.display.HTML object>"
      ]
     },
     "metadata": {},
     "output_type": "display_data"
    }
   ],
   "source": [
    "# stretch Jupyter coding blocks to fit screen\n",
    "from IPython.core.display import display, HTML\n",
    "display(HTML(\"<style>.container { width:90% !important; }</style>\")) \n",
    "\n",
    "# make it run on py2 and py3\n",
    "from __future__ import division, print_function"
   ]
  },
  {
   "cell_type": "markdown",
   "metadata": {},
   "source": [
    "# Data Mining I\n",
    "This  notebook is intended to perform the following processes:\n",
    "\n",
    "    1.1 Read-in news articles from newsAPI for a given date range, and up to five queries (passed as a list).\n",
    "\n",
    "    1.2 Extract features native to the articles (e.g. url).\n",
    "\n",
    "    1.3 Perform data cleanup and preprocessing.\n",
    "\n",
    "    1.4 Split dataset into n-csv-files for distrubuted computation or batching."
   ]
  },
  {
   "cell_type": "markdown",
   "metadata": {},
   "source": [
    "___\n",
    "### **Begin Data Mining I:** Read-in NewsAPI feed for a given date range"
   ]
  },
  {
   "cell_type": "code",
   "execution_count": 3,
   "metadata": {},
   "outputs": [
    {
     "name": "stdout",
     "output_type": "stream",
     "text": [
      "<class 'newsapi.newsapi_client.NewsApiClient'>\n"
     ]
    }
   ],
   "source": [
    "### NEWSAPI RELATED ###\n",
    "# keys: \n",
    "mkey = '8ba091b7a47b4c9a9162a83ca72eb1ca'\n",
    "ekey = '2bc85776a0c14af6b9937366ad683e2f'\n",
    "\n",
    "# Install API \n",
    "#!pip install newsapi-python\n",
    "\n",
    "# Import Client\n",
    "from newsapi import NewsApiClient\n",
    "\n",
    "# Initialize Client (create object)\n",
    "news_api = NewsApiClient(api_key = mkey)\n",
    "print(type(news_api))"
   ]
  },
  {
   "cell_type": "markdown",
   "metadata": {},
   "source": [
    "__1.1 Read-in news articles from newsAPI for a given date range__"
   ]
  },
  {
   "cell_type": "markdown",
   "metadata": {},
   "source": [
    "#### Function: **get_news**\n",
    "Function establishes values to be used for control of loop then calls functions used to extract news article data"
   ]
  },
  {
   "cell_type": "code",
   "execution_count": 4,
   "metadata": {},
   "outputs": [],
   "source": [
    "def get_news(query, start, stop, sort, lang, article_count, page_count):\n",
    "    import math\n",
    "    # extract information about response file to ensure proper loop control\n",
    "    params = get_params(query, start, stop, sort, lang, article_count, page_count)\n",
    "\n",
    "    # variable referencing\n",
    "    status = params['status']\n",
    "    results = params['totalResults']\n",
    "    \n",
    "    # Confirmation of data extraction\n",
    "    print(\"\\nVerify Read-in Process:\", status)\n",
    "    print(\"Number of Articles Correctly Extracted: \", results)\n",
    "    print(type(params), params.keys())\n",
    "           \n",
    "    # per page article extraction stop variable -- if number of articles is greater than number articles per page\n",
    "    loops = math.ceil(results/article_count)\n",
    "    \n",
    "    if page_count == 'all' or article_count <  results:\n",
    "        print(\"\\n\\nExtracting News Data...\\n\")\n",
    "        news_df = pd.DataFrame()\n",
    "        # function is called withinin loop, is subject to number of pages available as a function of total no. articles\n",
    "        for page in range(loops):\n",
    "            df = news_data(query, start, stop, sort, lang, article_count, page_count)\n",
    "            news_df = news_df.append(df)  #'.append' does not happen in place, so variable assignement stores dataframes    \n",
    "        print(\"Process Completed.\")\n",
    "        return(news_df)            \n",
    "    else:\n",
    "        print(\"Invalid Parameters: Check values\") "
   ]
  },
  {
   "cell_type": "markdown",
   "metadata": {},
   "source": [
    "#### Function: **get_params**\n",
    "Function runs an initial newsAPI call, used to store values for controlling loops"
   ]
  },
  {
   "cell_type": "code",
   "execution_count": 5,
   "metadata": {},
   "outputs": [],
   "source": [
    "# vanilla function for reading all articles, subject to parameters. \n",
    "# Can be used alone, or to extract values for iteration control.\n",
    "def get_params(query, start, stop, sort, lang, article_count, page_count):\n",
    "    print(\"\\nExtracting Parameters for newsAPI...\\n\")\n",
    "    params = news_api.get_everything(q = query,\n",
    "                                     from_parameter= start,\n",
    "                                     to= stop,\n",
    "                                     sort_by= sort,\n",
    "                                     language= lang,\n",
    "                                     page_size= int(article_count)\n",
    "                                    )\n",
    "    \n",
    "    # Confirmation of data extraction\n",
    "    print(\"Read-in Status of Given Date Range:\", params['status'])\n",
    "    print(\"Number of Articles in Given Date Range: \", params['totalResults'])\n",
    "    \n",
    "    return(params)"
   ]
  },
  {
   "cell_type": "markdown",
   "metadata": {},
   "source": [
    "#### Function: **news_data**\n",
    "Function handles cases, and extracts values within 'articles'. Returns dataframe of contents: \n",
    "\n",
    "\n",
    "*Index(['author', 'description', 'publishedAt', 'source', 'title', 'url','urlToImage'],dtype='object')*\n"
   ]
  },
  {
   "cell_type": "code",
   "execution_count": 6,
   "metadata": {},
   "outputs": [],
   "source": [
    "# Function can handle various relationships between no.pages and no.articles\n",
    "def news_data(query, start, stop, sort, lang, article_count, page_count):\n",
    "    if page_count == 'all':\n",
    "        params = news_api.get_everything(q = query,\n",
    "                                         from_parameter= start,\n",
    "                                         to= stop,\n",
    "                                         sort_by= sort,\n",
    "                                         language= lang,\n",
    "                                         page_size= int(article_count)\n",
    "                                         )\n",
    "    else: \n",
    "        params = news_api.get_everything(q = query,\n",
    "                                         from_parameter= start,\n",
    "                                         to= stop,\n",
    "                                         sort_by= sort,\n",
    "                                         language= lang,\n",
    "                                         page_size= int(article_count),\n",
    "                                         page = int(page_count)\n",
    "                                         )\n",
    "    values = pd.DataFrame(params['articles'])\n",
    "    return(values)"
   ]
  },
  {
   "cell_type": "markdown",
   "metadata": {},
   "source": [
    "#### User provided parameters and function call."
   ]
  },
  {
   "cell_type": "code",
   "execution_count": 7,
   "metadata": {},
   "outputs": [],
   "source": [
    "query = 'Bitcoin'         # can handle a list of up to five search topics\n",
    "start = '2017-10-08'      # yyyy-mm-dd\n",
    "stop = '2018-01-08'\n",
    "sort = 'publishedAt'\n",
    "lang = 'en'\n",
    "article_count = int(100)  # default is 20\n",
    "page_count = 'all'        # enter 1, 2, ... Notes: 'all' iterates over all articLes"
   ]
  },
  {
   "cell_type": "code",
   "execution_count": 8,
   "metadata": {},
   "outputs": [
    {
     "name": "stdout",
     "output_type": "stream",
     "text": [
      "\n",
      "Extracting Parameters for newsAPI...\n",
      "\n",
      "Read-in Status of Given Date Range: ok\n",
      "Number of Articles in Given Date Range:  2876\n",
      "\n",
      "Verify Read-in Process: ok\n",
      "Number of Articles Correctly Extracted:  2876\n",
      "<class 'dict'> dict_keys(['status', 'totalResults', 'articles'])\n",
      "\n",
      "\n",
      "Extracting News Data...\n",
      "\n",
      "Process Completed.\n"
     ]
    }
   ],
   "source": [
    "# object is the result of the following functions: 'get_params', 'get_news', and 'get_data'\n",
    "news = get_news(query, start, stop, sort, lang, article_count, page_count)"
   ]
  },
  {
   "cell_type": "markdown",
   "metadata": {},
   "source": [
    "#### Explore nested key/value pairs from newsAPI data"
   ]
  },
  {
   "cell_type": "code",
   "execution_count": 9,
   "metadata": {},
   "outputs": [
    {
     "name": "stdout",
     "output_type": "stream",
     "text": [
      "2900\n",
      "Index(['author', 'description', 'publishedAt', 'source', 'title', 'url',\n",
      "       'urlToImage'],\n",
      "      dtype='object')\n"
     ]
    },
    {
     "data": {
      "text/html": [
       "<div>\n",
       "<style scoped>\n",
       "    .dataframe tbody tr th:only-of-type {\n",
       "        vertical-align: middle;\n",
       "    }\n",
       "\n",
       "    .dataframe tbody tr th {\n",
       "        vertical-align: top;\n",
       "    }\n",
       "\n",
       "    .dataframe thead th {\n",
       "        text-align: right;\n",
       "    }\n",
       "</style>\n",
       "<table border=\"1\" class=\"dataframe\">\n",
       "  <thead>\n",
       "    <tr style=\"text-align: right;\">\n",
       "      <th></th>\n",
       "      <th>author</th>\n",
       "      <th>description</th>\n",
       "      <th>publishedAt</th>\n",
       "      <th>source</th>\n",
       "      <th>title</th>\n",
       "      <th>url</th>\n",
       "      <th>urlToImage</th>\n",
       "    </tr>\n",
       "  </thead>\n",
       "  <tbody>\n",
       "    <tr>\n",
       "      <th>0</th>\n",
       "      <td>Phillip Molnar</td>\n",
       "      <td>A British real estate company Monday launched ...</td>\n",
       "      <td>2018-01-09T00:00:00Z</td>\n",
       "      <td>{'id': None, 'name': 'Sandiegouniontribune.com'}</td>\n",
       "      <td>Purplebricks, flat fee real estate listers, la...</td>\n",
       "      <td>http://www.sandiegouniontribune.com/business/r...</td>\n",
       "      <td>http://www.trbimg.com/img-5a54093a/turbine/sd-...</td>\n",
       "    </tr>\n",
       "    <tr>\n",
       "      <th>1</th>\n",
       "      <td>None</td>\n",
       "      <td>``In parts of the continent - especially comme...</td>\n",
       "      <td>2018-01-09T00:00:00Z</td>\n",
       "      <td>{'id': None, 'name': 'Ml-implode.com'}</td>\n",
       "      <td>Why African millennials can't get enough of Bi...</td>\n",
       "      <td>http://ml-implode.com/staticnews/2018-01-09_Wh...</td>\n",
       "      <td>None</td>\n",
       "    </tr>\n",
       "    <tr>\n",
       "      <th>2</th>\n",
       "      <td>Associated Press, By Associated Press</td>\n",
       "      <td>NEW YORK — Kodak, which traces its roots to th...</td>\n",
       "      <td>2018-01-09T00:00:00Z</td>\n",
       "      <td>{'id': None, 'name': 'Bostonherald.com'}</td>\n",
       "      <td>Kodak surges at it becomes latest 'cryptocurre...</td>\n",
       "      <td>http://www.bostonherald.com/news/national/2018...</td>\n",
       "      <td>None</td>\n",
       "    </tr>\n",
       "    <tr>\n",
       "      <th>3</th>\n",
       "      <td>None</td>\n",
       "      <td>``JPMorgan Chase CEO Jamie Dimon has walked ba...</td>\n",
       "      <td>2018-01-09T00:00:00Z</td>\n",
       "      <td>{'id': None, 'name': 'Ml-implode.com'}</td>\n",
       "      <td>Dimon: \"I regret calling bitcoin a fraud\"</td>\n",
       "      <td>http://ml-implode.com/staticnews/2018-01-09_Di...</td>\n",
       "      <td>None</td>\n",
       "    </tr>\n",
       "    <tr>\n",
       "      <th>4</th>\n",
       "      <td>None</td>\n",
       "      <td>``Staff at the regulatory agency \"expressed co...</td>\n",
       "      <td>2018-01-09T00:00:00Z</td>\n",
       "      <td>{'id': None, 'name': 'Ml-implode.com'}</td>\n",
       "      <td>Fund managers say bitcoin ETF proposals withdr...</td>\n",
       "      <td>http://ml-implode.com/staticnews/2018-01-09_Fu...</td>\n",
       "      <td>None</td>\n",
       "    </tr>\n",
       "  </tbody>\n",
       "</table>\n",
       "</div>"
      ],
      "text/plain": [
       "                                  author  \\\n",
       "0                         Phillip Molnar   \n",
       "1                                   None   \n",
       "2  Associated Press, By Associated Press   \n",
       "3                                   None   \n",
       "4                                   None   \n",
       "\n",
       "                                         description           publishedAt  \\\n",
       "0  A British real estate company Monday launched ...  2018-01-09T00:00:00Z   \n",
       "1  ``In parts of the continent - especially comme...  2018-01-09T00:00:00Z   \n",
       "2  NEW YORK — Kodak, which traces its roots to th...  2018-01-09T00:00:00Z   \n",
       "3  ``JPMorgan Chase CEO Jamie Dimon has walked ba...  2018-01-09T00:00:00Z   \n",
       "4  ``Staff at the regulatory agency \"expressed co...  2018-01-09T00:00:00Z   \n",
       "\n",
       "                                             source  \\\n",
       "0  {'id': None, 'name': 'Sandiegouniontribune.com'}   \n",
       "1            {'id': None, 'name': 'Ml-implode.com'}   \n",
       "2          {'id': None, 'name': 'Bostonherald.com'}   \n",
       "3            {'id': None, 'name': 'Ml-implode.com'}   \n",
       "4            {'id': None, 'name': 'Ml-implode.com'}   \n",
       "\n",
       "                                               title  \\\n",
       "0  Purplebricks, flat fee real estate listers, la...   \n",
       "1  Why African millennials can't get enough of Bi...   \n",
       "2  Kodak surges at it becomes latest 'cryptocurre...   \n",
       "3          Dimon: \"I regret calling bitcoin a fraud\"   \n",
       "4  Fund managers say bitcoin ETF proposals withdr...   \n",
       "\n",
       "                                                 url  \\\n",
       "0  http://www.sandiegouniontribune.com/business/r...   \n",
       "1  http://ml-implode.com/staticnews/2018-01-09_Wh...   \n",
       "2  http://www.bostonherald.com/news/national/2018...   \n",
       "3  http://ml-implode.com/staticnews/2018-01-09_Di...   \n",
       "4  http://ml-implode.com/staticnews/2018-01-09_Fu...   \n",
       "\n",
       "                                          urlToImage  \n",
       "0  http://www.trbimg.com/img-5a54093a/turbine/sd-...  \n",
       "1                                               None  \n",
       "2                                               None  \n",
       "3                                               None  \n",
       "4                                               None  "
      ]
     },
     "execution_count": 9,
     "metadata": {},
     "output_type": "execute_result"
    }
   ],
   "source": [
    "print(len(news))\n",
    "print(news.keys())\n",
    "news.head(5)"
   ]
  },
  {
   "cell_type": "markdown",
   "metadata": {},
   "source": [
    "__1.2 Extract features native to the articles__"
   ]
  },
  {
   "cell_type": "markdown",
   "metadata": {},
   "source": [
    "#### Function: **get_info**\n",
    "Function extracts variables from dataframe and stores each as a list, returning all of them as a single dataframe.\n",
    "\n",
    "__Note:__ *urlToImage* is not included in this process, as we are uncertain as to the value of the feature"
   ]
  },
  {
   "cell_type": "code",
   "execution_count": 10,
   "metadata": {
    "collapsed": true
   },
   "outputs": [],
   "source": [
    "def get_info(df):\n",
    "    # for deepcopy()\n",
    "    import copy\n",
    "    \n",
    "    author = []\n",
    "    title = []\n",
    "    publisher = []\n",
    "    publish_url = []\n",
    "    timeStamp = []\n",
    "    description = []\n",
    "    \n",
    "    # loop appends rows to respective lists \n",
    "    for col_name in df:\n",
    "        for index in df[col_name]:\n",
    "            if col_name == 'author':\n",
    "                author.append(index)\n",
    "            elif col_name == 'title':\n",
    "                title.append(index)\n",
    "            elif col_name == 'source':\n",
    "                name = index['name']\n",
    "                publisher.append(name)\n",
    "            elif col_name == 'url':\n",
    "                publish_url.append(index)\n",
    "            elif col_name == 'publishedAt':\n",
    "                timeStamp.append(index)\n",
    "            elif col_name == 'description':\n",
    "                description.append(index)\n",
    "            else:\n",
    "                continue\n",
    "    \n",
    "    # merge lists and return them as dataframe.\n",
    "    df = pd.DataFrame({'author' : author,\n",
    "                       'title' : title,\n",
    "                       'publisher' : publisher,\n",
    "                       'source_url' : publish_url,\n",
    "                       'timeStamp' : timeStamp,\n",
    "                       'description' : description})\n",
    "    \n",
    "    return(df)\n",
    "        "
   ]
  },
  {
   "cell_type": "markdown",
   "metadata": {},
   "source": [
    "#### Completed newsAPI Read-in Process: \n",
    "##### newsDF contains features extracted from raw newsAPI feed, for a given data range, and query."
   ]
  },
  {
   "cell_type": "code",
   "execution_count": 11,
   "metadata": {},
   "outputs": [],
   "source": [
    "# Object creation\n",
    "newsDF = get_info(news)"
   ]
  },
  {
   "cell_type": "code",
   "execution_count": 12,
   "metadata": {},
   "outputs": [
    {
     "name": "stdout",
     "output_type": "stream",
     "text": [
      "\n",
      "DataFrame Dimensions: (2900, 6) \n",
      "\n"
     ]
    },
    {
     "data": {
      "text/html": [
       "<div>\n",
       "<style scoped>\n",
       "    .dataframe tbody tr th:only-of-type {\n",
       "        vertical-align: middle;\n",
       "    }\n",
       "\n",
       "    .dataframe tbody tr th {\n",
       "        vertical-align: top;\n",
       "    }\n",
       "\n",
       "    .dataframe thead th {\n",
       "        text-align: right;\n",
       "    }\n",
       "</style>\n",
       "<table border=\"1\" class=\"dataframe\">\n",
       "  <thead>\n",
       "    <tr style=\"text-align: right;\">\n",
       "      <th></th>\n",
       "      <th>author</th>\n",
       "      <th>description</th>\n",
       "      <th>publisher</th>\n",
       "      <th>source_url</th>\n",
       "      <th>timeStamp</th>\n",
       "      <th>title</th>\n",
       "    </tr>\n",
       "  </thead>\n",
       "  <tbody>\n",
       "    <tr>\n",
       "      <th>0</th>\n",
       "      <td>Phillip Molnar</td>\n",
       "      <td>A British real estate company Monday launched ...</td>\n",
       "      <td>Sandiegouniontribune.com</td>\n",
       "      <td>http://www.sandiegouniontribune.com/business/r...</td>\n",
       "      <td>2018-01-09T00:00:00Z</td>\n",
       "      <td>Purplebricks, flat fee real estate listers, la...</td>\n",
       "    </tr>\n",
       "    <tr>\n",
       "      <th>1</th>\n",
       "      <td>None</td>\n",
       "      <td>``In parts of the continent - especially comme...</td>\n",
       "      <td>Ml-implode.com</td>\n",
       "      <td>http://ml-implode.com/staticnews/2018-01-09_Wh...</td>\n",
       "      <td>2018-01-09T00:00:00Z</td>\n",
       "      <td>Why African millennials can't get enough of Bi...</td>\n",
       "    </tr>\n",
       "    <tr>\n",
       "      <th>2</th>\n",
       "      <td>Associated Press, By Associated Press</td>\n",
       "      <td>NEW YORK — Kodak, which traces its roots to th...</td>\n",
       "      <td>Bostonherald.com</td>\n",
       "      <td>http://www.bostonherald.com/news/national/2018...</td>\n",
       "      <td>2018-01-09T00:00:00Z</td>\n",
       "      <td>Kodak surges at it becomes latest 'cryptocurre...</td>\n",
       "    </tr>\n",
       "  </tbody>\n",
       "</table>\n",
       "</div>"
      ],
      "text/plain": [
       "                                  author  \\\n",
       "0                         Phillip Molnar   \n",
       "1                                   None   \n",
       "2  Associated Press, By Associated Press   \n",
       "\n",
       "                                         description  \\\n",
       "0  A British real estate company Monday launched ...   \n",
       "1  ``In parts of the continent - especially comme...   \n",
       "2  NEW YORK — Kodak, which traces its roots to th...   \n",
       "\n",
       "                  publisher  \\\n",
       "0  Sandiegouniontribune.com   \n",
       "1            Ml-implode.com   \n",
       "2          Bostonherald.com   \n",
       "\n",
       "                                          source_url             timeStamp  \\\n",
       "0  http://www.sandiegouniontribune.com/business/r...  2018-01-09T00:00:00Z   \n",
       "1  http://ml-implode.com/staticnews/2018-01-09_Wh...  2018-01-09T00:00:00Z   \n",
       "2  http://www.bostonherald.com/news/national/2018...  2018-01-09T00:00:00Z   \n",
       "\n",
       "                                               title  \n",
       "0  Purplebricks, flat fee real estate listers, la...  \n",
       "1  Why African millennials can't get enough of Bi...  \n",
       "2  Kodak surges at it becomes latest 'cryptocurre...  "
      ]
     },
     "execution_count": 12,
     "metadata": {},
     "output_type": "execute_result"
    }
   ],
   "source": [
    "# Verifying correct data extraction\n",
    "print(\"\\nDataFrame Dimensions:\", newsDF.shape, \"\\n\")\n",
    "newsDF.head(3)"
   ]
  },
  {
   "cell_type": "markdown",
   "metadata": {},
   "source": [
    "__1.3 Perform data cleanup and preprocessing.__\n",
    "\n"
   ]
  },
  {
   "cell_type": "markdown",
   "metadata": {},
   "source": [
    "The following functions perform basic clean up on a dataframe. The purpose is to prepare the file to write-out (csv).  \n",
    " "
   ]
  },
  {
   "cell_type": "code",
   "execution_count": 13,
   "metadata": {},
   "outputs": [],
   "source": [
    "# Replace 'None' values\n",
    "def findNone(df):\n",
    "    \"\"\"\n",
    "     Receives pandas datraframe, and removes null entries from author feature\n",
    "    \"\"\"\n",
    "    print(\"Removing 'None' values in author feature...\")\n",
    "    author = df['author']\n",
    "    publisher = df['publisher']\n",
    "    \n",
    "    for i in range(len(df)):\n",
    "        if pd.isnull(author.loc[i]):\n",
    "            author.loc[i] = publisher.loc[i]\n",
    "    return(df)"
   ]
  },
  {
   "cell_type": "code",
   "execution_count": 14,
   "metadata": {},
   "outputs": [],
   "source": [
    "# Remove gaps \n",
    "def gapStrip(df):\n",
    "    \"\"\"\n",
    "    Receives pandas dataframe and leading and traling empty space`\n",
    "    \"\"\"\n",
    "    df.columns = map(str.strip, df.columns) \n",
    "    print(\"Removing leading and trailing spaces and tabs...\")\n",
    "    # element-wise operation\n",
    "    f = lambda x: x.strip() if (isinstance(x,str)) else x\n",
    "    df = df.applymap(f)\n",
    "    return(df)"
   ]
  },
  {
   "cell_type": "code",
   "execution_count": 15,
   "metadata": {},
   "outputs": [],
   "source": [
    "# Standardize time stamps\n",
    "def std_timeStamp(df):\n",
    "    \"\"\"\n",
    "    Receives pandas dataframe and standardizes time stamps \n",
    "    \"\"\"\n",
    "    import datetime\n",
    "    # Check to see time stamps are in zero timezones\n",
    "    print(\"Converting Time Stamps to Desired Standard Formating...\")\n",
    "    for time in df['timeStamp']:\n",
    "        if time.endswith('Z'):\n",
    "            df['timeStamp'] = pd.to_datetime(df['timeStamp'], \n",
    "                                            infer_datetime_format = True,\n",
    "                                            utc = True)                       # returns a type '.Timestamp'\n",
    "            return(df)\n",
    "        else:\n",
    "            print(\"Revisit appropriate variable or function to deal with time zones that are not zero\")"
   ]
  },
  {
   "cell_type": "code",
   "execution_count": 16,
   "metadata": {},
   "outputs": [],
   "source": [
    "def feature_clean(df):\n",
    "    \"\"\"\n",
    "    Performs Generic Cleanup and Preprocessing on a given dataframe sourced from newsAPI\n",
    "    \"\"\"\n",
    "    temp = findNone(df)            # removes missing values from author column\n",
    "    temp2 = gapStrip(temp)      # remove leading and trailing white space\n",
    "    temp3 = std_timeStamp(temp2)  # convert time stamps to starndard\n",
    "    return(temp3)"
   ]
  },
  {
   "cell_type": "code",
   "execution_count": 17,
   "metadata": {},
   "outputs": [
    {
     "name": "stdout",
     "output_type": "stream",
     "text": [
      "Removing 'None' values in author feature...\n",
      "Removing leading and trailing spaces and tabs...\n",
      "Converting Time Stamps to Desired Standard Formating...\n"
     ]
    },
    {
     "data": {
      "text/html": [
       "<div>\n",
       "<style scoped>\n",
       "    .dataframe tbody tr th:only-of-type {\n",
       "        vertical-align: middle;\n",
       "    }\n",
       "\n",
       "    .dataframe tbody tr th {\n",
       "        vertical-align: top;\n",
       "    }\n",
       "\n",
       "    .dataframe thead th {\n",
       "        text-align: right;\n",
       "    }\n",
       "</style>\n",
       "<table border=\"1\" class=\"dataframe\">\n",
       "  <thead>\n",
       "    <tr style=\"text-align: right;\">\n",
       "      <th></th>\n",
       "      <th>author</th>\n",
       "      <th>description</th>\n",
       "      <th>publisher</th>\n",
       "      <th>source_url</th>\n",
       "      <th>timeStamp</th>\n",
       "      <th>title</th>\n",
       "    </tr>\n",
       "  </thead>\n",
       "  <tbody>\n",
       "    <tr>\n",
       "      <th>0</th>\n",
       "      <td>Phillip Molnar</td>\n",
       "      <td>A British real estate company Monday launched ...</td>\n",
       "      <td>Sandiegouniontribune.com</td>\n",
       "      <td>http://www.sandiegouniontribune.com/business/r...</td>\n",
       "      <td>2018-01-09 00:00:00+00:00</td>\n",
       "      <td>Purplebricks, flat fee real estate listers, la...</td>\n",
       "    </tr>\n",
       "    <tr>\n",
       "      <th>1</th>\n",
       "      <td>Ml-implode.com</td>\n",
       "      <td>``In parts of the continent - especially comme...</td>\n",
       "      <td>Ml-implode.com</td>\n",
       "      <td>http://ml-implode.com/staticnews/2018-01-09_Wh...</td>\n",
       "      <td>2018-01-09 00:00:00+00:00</td>\n",
       "      <td>Why African millennials can't get enough of Bi...</td>\n",
       "    </tr>\n",
       "    <tr>\n",
       "      <th>2</th>\n",
       "      <td>Associated Press, By Associated Press</td>\n",
       "      <td>NEW YORK — Kodak, which traces its roots to th...</td>\n",
       "      <td>Bostonherald.com</td>\n",
       "      <td>http://www.bostonherald.com/news/national/2018...</td>\n",
       "      <td>2018-01-09 00:00:00+00:00</td>\n",
       "      <td>Kodak surges at it becomes latest 'cryptocurre...</td>\n",
       "    </tr>\n",
       "    <tr>\n",
       "      <th>3</th>\n",
       "      <td>Ml-implode.com</td>\n",
       "      <td>``JPMorgan Chase CEO Jamie Dimon has walked ba...</td>\n",
       "      <td>Ml-implode.com</td>\n",
       "      <td>http://ml-implode.com/staticnews/2018-01-09_Di...</td>\n",
       "      <td>2018-01-09 00:00:00+00:00</td>\n",
       "      <td>Dimon: \"I regret calling bitcoin a fraud\"</td>\n",
       "    </tr>\n",
       "    <tr>\n",
       "      <th>4</th>\n",
       "      <td>Ml-implode.com</td>\n",
       "      <td>``Staff at the regulatory agency \"expressed co...</td>\n",
       "      <td>Ml-implode.com</td>\n",
       "      <td>http://ml-implode.com/staticnews/2018-01-09_Fu...</td>\n",
       "      <td>2018-01-09 00:00:00+00:00</td>\n",
       "      <td>Fund managers say bitcoin ETF proposals withdr...</td>\n",
       "    </tr>\n",
       "  </tbody>\n",
       "</table>\n",
       "</div>"
      ],
      "text/plain": [
       "                                  author  \\\n",
       "0                         Phillip Molnar   \n",
       "1                         Ml-implode.com   \n",
       "2  Associated Press, By Associated Press   \n",
       "3                         Ml-implode.com   \n",
       "4                         Ml-implode.com   \n",
       "\n",
       "                                         description  \\\n",
       "0  A British real estate company Monday launched ...   \n",
       "1  ``In parts of the continent - especially comme...   \n",
       "2  NEW YORK — Kodak, which traces its roots to th...   \n",
       "3  ``JPMorgan Chase CEO Jamie Dimon has walked ba...   \n",
       "4  ``Staff at the regulatory agency \"expressed co...   \n",
       "\n",
       "                  publisher  \\\n",
       "0  Sandiegouniontribune.com   \n",
       "1            Ml-implode.com   \n",
       "2          Bostonherald.com   \n",
       "3            Ml-implode.com   \n",
       "4            Ml-implode.com   \n",
       "\n",
       "                                          source_url  \\\n",
       "0  http://www.sandiegouniontribune.com/business/r...   \n",
       "1  http://ml-implode.com/staticnews/2018-01-09_Wh...   \n",
       "2  http://www.bostonherald.com/news/national/2018...   \n",
       "3  http://ml-implode.com/staticnews/2018-01-09_Di...   \n",
       "4  http://ml-implode.com/staticnews/2018-01-09_Fu...   \n",
       "\n",
       "                  timeStamp                                              title  \n",
       "0 2018-01-09 00:00:00+00:00  Purplebricks, flat fee real estate listers, la...  \n",
       "1 2018-01-09 00:00:00+00:00  Why African millennials can't get enough of Bi...  \n",
       "2 2018-01-09 00:00:00+00:00  Kodak surges at it becomes latest 'cryptocurre...  \n",
       "3 2018-01-09 00:00:00+00:00          Dimon: \"I regret calling bitcoin a fraud\"  \n",
       "4 2018-01-09 00:00:00+00:00  Fund managers say bitcoin ETF proposals withdr...  "
      ]
     },
     "execution_count": 17,
     "metadata": {},
     "output_type": "execute_result"
    }
   ],
   "source": [
    "riskEx_df = feature_clean(newsDF)\n",
    "riskEx_df.head(5)"
   ]
  },
  {
   "cell_type": "markdown",
   "metadata": {},
   "source": [
    "__1.4 Split dataset into n-csv-files for distrubuted computation or batching.__"
   ]
  },
  {
   "cell_type": "code",
   "execution_count": 18,
   "metadata": {},
   "outputs": [],
   "source": [
    "def df_to_csvs(df):\n",
    "    articlesPage = int(100)\n",
    "    totalArticles = len(df)\n",
    "    batchSize=round(totalArticles/articlesPage)          # number of rows in single output file\n",
    "        \n",
    "    for id, df_i in  enumerate(np.array_split(df, batchSize)):\n",
    "        df_i.to_csv('rawData_{id}.csv'.format(id=id), index_label = False)                 "
   ]
  },
  {
   "cell_type": "code",
   "execution_count": 19,
   "metadata": {},
   "outputs": [],
   "source": [
    "# write out n-csv-files each with 100 rows. Process is done to reduce computational load.\n",
    "df_to_csvs(riskEx_df)"
   ]
  },
  {
   "cell_type": "markdown",
   "metadata": {},
   "source": [
    "### **End Data Mining I:** Read-in NewsAPI feed for a given date range\n",
    "___"
   ]
  }
 ],
 "metadata": {
  "kernelspec": {
   "display_name": "Python 3",
   "language": "python",
   "name": "python3"
  },
  "language_info": {
   "codemirror_mode": {
    "name": "ipython",
    "version": 3
   },
   "file_extension": ".py",
   "mimetype": "text/x-python",
   "name": "python",
   "nbconvert_exporter": "python",
   "pygments_lexer": "ipython3",
   "version": "3.6.4"
  }
 },
 "nbformat": 4,
 "nbformat_minor": 2
}
