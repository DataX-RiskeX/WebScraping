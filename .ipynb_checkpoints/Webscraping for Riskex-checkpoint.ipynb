{
 "cells": [
  {
   "cell_type": "code",
   "execution_count": null,
   "metadata": {},
   "outputs": [],
   "source": [
    "####-----------------------------------------------------------------------------####\n",
    "#   title: \"IEOR 135 Group Project -- Data Scraping (Build for RiskEx)\"             #\n",
    "#   author: \"Elias Castro Hernandez, Manana         Ran, \"                          #\n",
    "#   date: \"March 2018\"                                                              # \n",
    "#   purpose: scrape over websites, read, and clean data for ML modeling             #\n",
    "####-----------------------------------------------------------------------------####"
   ]
  },
  {
   "cell_type": "code",
   "execution_count": 35,
   "metadata": {},
   "outputs": [],
   "source": [
    "# Import Packages and Libraries\n",
    "import requests # HTTP parser\n",
    "import html5lib\n",
    "\n",
    "import bs4 as bs # BeautifulSoup4 \n",
    "import pandas as pd\n",
    "import numpy as np\n",
    "import urllib3\n",
    "import re"
   ]
  },
  {
   "cell_type": "code",
   "execution_count": 3,
   "metadata": {},
   "outputs": [
    {
     "data": {
      "text/html": [
       "<style>.container { width:90% !important; }</style>"
      ],
      "text/plain": [
       "<IPython.core.display.HTML object>"
      ]
     },
     "metadata": {},
     "output_type": "display_data"
    }
   ],
   "source": [
    "# stretch Jupyter coding blocks to fit screen\n",
    "from IPython.core.display import display, HTML\n",
    "display(HTML(\"<style>.container { width:90% !important; }</style>\")) \n",
    "\n",
    "# make it run on py2 and py3\n",
    "from __future__ import division, print_function"
   ]
  },
  {
   "cell_type": "code",
   "execution_count": 18,
   "metadata": {},
   "outputs": [
    {
     "name": "stdout",
     "output_type": "stream",
     "text": [
      "<Response [200]>\n"
     ]
    }
   ],
   "source": [
    "# create object of access into webpage\n",
    "source = requests.get('https://www.coindesk.com/category/technology-news/')\n",
    "print(source) # If <Response [200]> then website succesfully accessed\n",
    "\n",
    "# Extract data and allow for pretty print \n",
    "soup = bs.BeautifulSoup(source.content, features='html.parser') \n"
   ]
  },
  {
   "cell_type": "code",
   "execution_count": 15,
   "metadata": {
    "scrolled": false
   },
   "outputs": [],
   "source": [
    "#print(soup.prettify())"
   ]
  },
  {
   "cell_type": "code",
   "execution_count": 23,
   "metadata": {},
   "outputs": [],
   "source": [
    "# Look over important information on website\n",
    "#print(soup.body.prettify(), \"\\n*************\\n\") # look over body"
   ]
  },
  {
   "cell_type": "code",
   "execution_count": 26,
   "metadata": {},
   "outputs": [
    {
     "name": "stdout",
     "output_type": "stream",
     "text": [
      "<title>\n",
      " Technology News Archives - CoinDesk\n",
      "</title>\n",
      " \n",
      "*************\n",
      "\n"
     ]
    }
   ],
   "source": [
    "#print(soup.find('title').prettify(),\"\\n*************\\n\") # title of website"
   ]
  },
  {
   "cell_type": "code",
   "execution_count": 76,
   "metadata": {},
   "outputs": [
    {
     "name": "stdout",
     "output_type": "stream",
     "text": [
      "<div class=\"menu-top-nav-container\">\n",
      " <select class=\"menu dropdown-menu\" id=\"menu-top-nav\">\n",
      "  <option class=\"blank\" value=\"\">\n",
      "   — Top nav —\n",
      "  </option>\n",
      "  <option class=\"menu-information menu-item menu-item-type-custom menu-item-object-custom menu-item-has-children menu-item-14881 menu-item-depth-0\" value=\"/information/\">\n",
      "   Blockchain 101\n",
      "  </option>\n",
      "  <option class=\"menu-item menu-item-type-custom menu-item-object-custom menu-item-has-children menu-item-261566 menu-item-depth-1\" value=\"https://www.coindesk.com/information/\">\n",
      "   – Bitcoin\n",
      "  </option>\n",
      "  <option class=\"menu-item menu-item-type-post_type menu-item-object-information menu-item-19153 menu-item-depth-2\" value=\"https://www.coindesk.com/information/what-is-bitcoin/\">\n",
      "   – – What is Bitcoin?\n",
      "  </option>\n",
      "  <option class=\"menu-item menu-item-type-post_type menu-item-object-information menu-item-19150 menu-item-depth-2\" value=\"https://www.coindesk.com/information/how-can-i-buy-bitcoins/\">\n",
      "   – – How Can I Buy Bitcoin?\n",
      "  </option>\n",
      "  <option class=\"menu-item menu-item-type-post_type menu-item-object-information menu-item-19154 menu-item-depth-2\" value=\"https://www.coindesk.com/information/how-bitcoin-mining-works/\">\n",
      "   – – How Does Bitcoin Mining Work?\n",
      "  </option>\n",
      "  <option class=\"menu-item menu-item-type-post_type menu-item-object-information menu-item-19152 menu-item-depth-2\" value=\"https://www.coindesk.com/information/how-do-bitcoin-transactions-work/\">\n",
      "   – – How Do Bitcoin Transactions Work?\n",
      "  </option>\n",
      "  <option class=\"menu-item menu-item-type-custom menu-item-object-custom menu-item-261577 menu-item-depth-2\" value=\"https://www.coindesk.com/information/sell-bitcoin/\">\n",
      "   – – How Can I Sell Bitcoin?\n",
      "  </option>\n",
      "  <option class=\"menu-item menu-item-type-custom menu-item-object-custom menu-item-has-children menu-item-261567 menu-item-depth-1\" value=\"https://www.coindesk.com/information/\">\n",
      "   – Blockchain\n",
      "  </option>\n",
      "  <option class=\"menu-item menu-item-type-custom menu-item-object-custom menu-item-261569 menu-item-depth-2\" value=\"https://www.coindesk.com/information/what-is-blockchain-technology/\">\n",
      "   – – What is Blockchain Technology?\n",
      "  </option>\n",
      "  <option class=\"menu-item menu-item-type-custom menu-item-object-custom menu-item-261570 menu-item-depth-2\" value=\"https://www.coindesk.com/information/how-does-blockchain-technology-work/\">\n",
      "   – – How Does Blockchain Technology Work?\n",
      "  </option>\n",
      "  <option class=\"menu-item menu-item-type-custom menu-item-object-custom menu-item-261571 menu-item-depth-2\" value=\"https://www.coindesk.com/information/what-can-a-blockchain-do/\">\n",
      "   – – What Can a Blockchain Do?\n",
      "  </option>\n",
      "  <option class=\"menu-item menu-item-type-custom menu-item-object-custom menu-item-261572 menu-item-depth-2\" value=\"https://www.coindesk.com/information/what-is-a-distributed-ledger/\">\n",
      "   – – What is a Distributed Ledger?\n",
      "  </option>\n",
      "  <option class=\"menu-item menu-item-type-custom menu-item-object-custom menu-item-261576 menu-item-depth-2\" value=\"https://www.coindesk.com/information/why-use-a-blockchain/\">\n",
      "   – – Why Use a Blockchain?\n",
      "  </option>\n",
      "  <option class=\"menu-item menu-item-type-custom menu-item-object-custom menu-item-has-children menu-item-263983 menu-item-depth-1\" value=\"https://www.coindesk.com/information/\">\n",
      "   – Ethereum\n",
      "  </option>\n",
      "  <option class=\"menu-item menu-item-type-custom menu-item-object-custom menu-item-263985 menu-item-depth-2\" value=\"https://www.coindesk.com/information/what-is-ethereum/\">\n",
      "   – – What is Ethereum?\n",
      "  </option>\n",
      "  <option class=\"menu-item menu-item-type-custom menu-item-object-custom menu-item-263986 menu-item-depth-2\" value=\"https://www.coindesk.com/information/how-to-use-ethereum/\">\n",
      "   – – How Do I Use Ethereum?\n",
      "  </option>\n",
      "  <option class=\"menu-item menu-item-type-custom menu-item-object-custom menu-item-263988 menu-item-depth-2\" value=\"https://www.coindesk.com/information/how-ethereum-works/\">\n",
      "   – – How Does Ethereum Work?\n",
      "  </option>\n",
      "  <option class=\"menu-item menu-item-type-custom menu-item-object-custom menu-item-263989 menu-item-depth-2\" value=\"https://www.coindesk.com/information/what-is-a-decentralized-application-dapp/\">\n",
      "   – – What is a Decentralized Application?\n",
      "  </option>\n",
      "  <option class=\"menu-item menu-item-type-custom menu-item-object-custom menu-item-263990 menu-item-depth-2\" value=\"https://www.coindesk.com/information/ethereum-smart-contracts-work/\">\n",
      "   – – How Do Smart Contracts Work?\n",
      "  </option>\n",
      "  <option class=\"menu-item menu-item-type-taxonomy menu-item-object-category current-menu-item menu-item-has-children menu-item-268528 menu-item-depth-0\" selected=\"selected\" value=\"https://www.coindesk.com/category/technology-news/\">\n",
      "   Technology\n",
      "  </option>\n",
      "  <option class=\"menu-item menu-item-type-taxonomy menu-item-object-category menu-item-268533 menu-item-depth-1\" value=\"https://www.coindesk.com/category/technology-news/bitcoin/\">\n",
      "   – Bitcoin\n",
      "  </option>\n",
      "  <option class=\"menu-item menu-item-type-taxonomy menu-item-object-category menu-item-268537 menu-item-depth-1\" value=\"https://www.coindesk.com/category/technology-news/ethereum-technology-news/\">\n",
      "   – Ethereum\n",
      "  </option>\n",
      "  <option class=\"menu-item menu-item-type-taxonomy menu-item-object-category menu-item-268534 menu-item-depth-1\" value=\"https://www.coindesk.com/category/technology-news/other-public-protocols/\">\n",
      "   – Other Public Protocols\n",
      "  </option>\n",
      "  <option class=\"menu-item menu-item-type-taxonomy menu-item-object-category menu-item-268540 menu-item-depth-1\" value=\"https://www.coindesk.com/category/technology-news/distributed-ledger-technology/\">\n",
      "   – Distributed Ledger Technology\n",
      "  </option>\n",
      "  <option class=\"menu-item menu-item-type-taxonomy menu-item-object-category menu-item-268664 menu-item-depth-1\" value=\"https://www.coindesk.com/category/technology-news/reviews-technology-news/\">\n",
      "   – Reviews\n",
      "  </option>\n",
      "  <option class=\"menu-item menu-item-type-taxonomy menu-item-object-category menu-item-has-children menu-item-268545 menu-item-depth-0\" value=\"https://www.coindesk.com/category/markets-news/\">\n",
      "   Markets\n",
      "  </option>\n",
      "  <option class=\"menu-item menu-item-type-taxonomy menu-item-object-category menu-item-has-children menu-item-268547 menu-item-depth-1\" value=\"https://www.coindesk.com/category/markets-news/investments/\">\n",
      "   – Investments\n",
      "  </option>\n",
      "  <option class=\"menu-item menu-item-type-taxonomy menu-item-object-category menu-item-268548 menu-item-depth-2\" value=\"https://www.coindesk.com/category/markets-news/investments/venture-capital/\">\n",
      "   – – Venture Capital\n",
      "  </option>\n",
      "  <option class=\"menu-item menu-item-type-taxonomy menu-item-object-category menu-item-268549 menu-item-depth-2\" value=\"https://www.coindesk.com/category/markets-news/investments/initial-coin-offerings/\">\n",
      "   – – Initial Coin Offerings\n",
      "  </option>\n",
      "  <option class=\"menu-item menu-item-type-taxonomy menu-item-object-category menu-item-has-children menu-item-268546 menu-item-depth-1\" value=\"https://www.coindesk.com/category/markets-news/markets-markets-news/\">\n",
      "   – Markets\n",
      "  </option>\n",
      "  <option class=\"menu-item menu-item-type-taxonomy menu-item-object-category menu-item-268551 menu-item-depth-2\" value=\"https://www.coindesk.com/category/markets-news/markets-markets-news/markets-bitcoin/\">\n",
      "   – – Bitcoin\n",
      "  </option>\n",
      "  <option class=\"menu-item menu-item-type-taxonomy menu-item-object-category menu-item-268552 menu-item-depth-2\" value=\"https://www.coindesk.com/category/markets-news/markets-markets-news/markets-ethereum/\">\n",
      "   – – Ethereum\n",
      "  </option>\n",
      "  <option class=\"menu-item menu-item-type-taxonomy menu-item-object-category menu-item-268653 menu-item-depth-2\" value=\"https://www.coindesk.com/category/markets-news/markets-markets-news/markets-exchanges/\">\n",
      "   – – Exchanges\n",
      "  </option>\n",
      "  <option class=\"menu-item menu-item-type-taxonomy menu-item-object-category menu-item-268550 menu-item-depth-2\" value=\"https://www.coindesk.com/category/markets-news/markets-markets-news/markets-news-other-public-protocols/\">\n",
      "   – – Other Public Protocols\n",
      "  </option>\n",
      "  <option class=\"menu-item menu-item-type-taxonomy menu-item-object-category menu-item-has-children menu-item-268553 menu-item-depth-0\" value=\"https://www.coindesk.com/category/business-news/\">\n",
      "   Business\n",
      "  </option>\n",
      "  <option class=\"menu-item menu-item-type-taxonomy menu-item-object-category menu-item-has-children menu-item-268554 menu-item-depth-1\" value=\"https://www.coindesk.com/category/business-news/use-cases-verticals/\">\n",
      "   – Use Cases &amp; Verticals\n",
      "  </option>\n",
      "  <option class=\"menu-item menu-item-type-taxonomy menu-item-object-category menu-item-268674 menu-item-depth-2\" value=\"https://www.coindesk.com/category/business-news/use-cases-verticals/payments/\">\n",
      "   – – Payments\n",
      "  </option>\n",
      "  <option class=\"menu-item menu-item-type-taxonomy menu-item-object-category menu-item-268675 menu-item-depth-2\" value=\"https://www.coindesk.com/category/business-news/use-cases-verticals/capital-markets/\">\n",
      "   – – Capital Markets\n",
      "  </option>\n",
      "  <option class=\"menu-item menu-item-type-taxonomy menu-item-object-category menu-item-268676 menu-item-depth-2\" value=\"https://www.coindesk.com/category/business-news/use-cases-verticals/banking/\">\n",
      "   – – Banking\n",
      "  </option>\n",
      "  <option class=\"menu-item menu-item-type-taxonomy menu-item-object-category menu-item-268677 menu-item-depth-2\" value=\"https://www.coindesk.com/category/business-news/use-cases-verticals/insurance/\">\n",
      "   – – Insurance\n",
      "  </option>\n",
      "  <option class=\"menu-item menu-item-type-taxonomy menu-item-object-category menu-item-268678 menu-item-depth-2\" value=\"https://www.coindesk.com/category/business-news/use-cases-verticals/supply-chain/\">\n",
      "   – – Supply Chain\n",
      "  </option>\n",
      "  <option class=\"menu-item menu-item-type-taxonomy menu-item-object-category menu-item-268679 menu-item-depth-2\" value=\"https://www.coindesk.com/category/business-news/use-cases-verticals/security/\">\n",
      "   – – Security\n",
      "  </option>\n",
      "  <option class=\"menu-item menu-item-type-taxonomy menu-item-object-category menu-item-268680 menu-item-depth-2\" value=\"https://www.coindesk.com/category/business-news/use-cases-verticals/identity/\">\n",
      "   – – Identity\n",
      "  </option>\n",
      "  <option class=\"menu-item menu-item-type-taxonomy menu-item-object-category menu-item-268681 menu-item-depth-2\" value=\"https://www.coindesk.com/category/business-news/use-cases-verticals/healthcare/\">\n",
      "   – – Healthcare\n",
      "  </option>\n",
      "  <option class=\"menu-item menu-item-type-taxonomy menu-item-object-category menu-item-268682 menu-item-depth-2\" value=\"https://www.coindesk.com/category/business-news/use-cases-verticals/energy/\">\n",
      "   – – Energy\n",
      "  </option>\n",
      "  <option class=\"menu-item menu-item-type-taxonomy menu-item-object-category menu-item-268683 menu-item-depth-2\" value=\"https://www.coindesk.com/category/business-news/use-cases-verticals/internet-of-things/\">\n",
      "   – – Internet of Things\n",
      "  </option>\n",
      "  <option class=\"menu-item menu-item-type-taxonomy menu-item-object-category menu-item-268673 menu-item-depth-2\" value=\"https://www.coindesk.com/category/business-news/use-cases-verticals/uses-cases-verticals-merchants/\">\n",
      "   – – Merchants\n",
      "  </option>\n",
      "  <option class=\"menu-item menu-item-type-taxonomy menu-item-object-category menu-item-268684 menu-item-depth-2\" value=\"https://www.coindesk.com/category/business-news/use-cases-verticals/startups/\">\n",
      "   – – Startups\n",
      "  </option>\n",
      "  <option class=\"menu-item menu-item-type-taxonomy menu-item-object-category menu-item-has-children menu-item-268555 menu-item-depth-1\" value=\"https://www.coindesk.com/category/business-news/legal/\">\n",
      "   – Legal\n",
      "  </option>\n",
      "  <option class=\"menu-item menu-item-type-taxonomy menu-item-object-category menu-item-268600 menu-item-depth-2\" value=\"https://www.coindesk.com/category/business-news/legal/regulation-legal/\">\n",
      "   – – Regulation\n",
      "  </option>\n",
      "  <option class=\"menu-item menu-item-type-taxonomy menu-item-object-category menu-item-268601 menu-item-depth-2\" value=\"https://www.coindesk.com/category/business-news/legal/central-banking/\">\n",
      "   – – Central Banking\n",
      "  </option>\n",
      "  <option class=\"menu-item menu-item-type-taxonomy menu-item-object-category menu-item-268602 menu-item-depth-2\" value=\"https://www.coindesk.com/category/business-news/legal/tax/\">\n",
      "   – – Tax\n",
      "  </option>\n",
      "  <option class=\"menu-item menu-item-type-taxonomy menu-item-object-category menu-item-268603 menu-item-depth-2\" value=\"https://www.coindesk.com/category/business-news/legal/crime/\">\n",
      "   – – Crime\n",
      "  </option>\n",
      "  <option class=\"menu-item menu-item-type-taxonomy menu-item-object-category menu-item-268604 menu-item-depth-2\" value=\"https://www.coindesk.com/category/business-news/legal/us-canada/\">\n",
      "   – – US &amp; Canada\n",
      "  </option>\n",
      "  <option class=\"menu-item menu-item-type-taxonomy menu-item-object-category menu-item-268605 menu-item-depth-2\" value=\"https://www.coindesk.com/category/business-news/legal/asia-pacific/\">\n",
      "   – – Asia-Pacific\n",
      "  </option>\n",
      "  <option class=\"menu-item menu-item-type-taxonomy menu-item-object-category menu-item-268606 menu-item-depth-2\" value=\"https://www.coindesk.com/category/business-news/legal/europe/\">\n",
      "   – – Europe\n",
      "  </option>\n",
      "  <option class=\"menu-item menu-item-type-custom menu-item-object-custom menu-item-has-children menu-item-268364 menu-item-depth-0\" value=\"/price/\">\n",
      "   Data &amp; Research\n",
      "  </option>\n",
      "  <option class=\"menu-item menu-item-type-custom menu-item-object-custom menu-item-has-children menu-item-268366 menu-item-depth-1\" value=\"https://coindesk.com/price\">\n",
      "   – Data\n",
      "  </option>\n",
      "  <option class=\"menu-item menu-item-type-post_type menu-item-object-page menu-item-19082 menu-item-depth-2\" value=\"https://www.coindesk.com/price/\">\n",
      "   – – Bitcoin Price Index\n",
      "  </option>\n",
      "  <option class=\"menu-item menu-item-type-post_type menu-item-object-page menu-item-263588 menu-item-depth-2\" value=\"https://www.coindesk.com/ethereum-price/\">\n",
      "   – – Ethereum Price\n",
      "  </option>\n",
      "  <option class=\"menu-item menu-item-type-custom menu-item-object-custom menu-item-170074 menu-item-depth-2\" value=\"/category/features/data-analysis/\">\n",
      "   – – Data Analysis\n",
      "  </option>\n",
      "  <option class=\"menu-item menu-item-type-post_type menu-item-object-page menu-item-25455 menu-item-depth-2\" value=\"https://www.coindesk.com/calculator/\">\n",
      "   – – Bitcoin Calculator\n",
      "  </option>\n",
      "  <option class=\"menu-item menu-item-type-post_type menu-item-object-page menu-item-85520 menu-item-depth-2\" value=\"https://www.coindesk.com/bitcoin-venture-capital/\">\n",
      "   – – Blockchain Venture Capital\n",
      "  </option>\n",
      "  <option class=\"menu-item menu-item-type-custom menu-item-object-custom menu-item-284699 menu-item-depth-2\" value=\"/ico-tracker/\">\n",
      "   – – ICO Tracker\n",
      "  </option>\n",
      "  <option class=\"menu-item menu-item-type-post_type menu-item-object-page menu-item-39181 menu-item-depth-2\" value=\"https://www.coindesk.com/price/bitcoin-price-index/\">\n",
      "   – – About the BPI\n",
      "  </option>\n",
      "  <option class=\"menu-item menu-item-type-custom menu-item-object-custom menu-item-198736 menu-item-depth-2\" value=\"https://www.coindesk.com/bitcoin-legal-map/\">\n",
      "   – – Bitcoin Legality Map\n",
      "  </option>\n",
      "  <option class=\"menu-item menu-item-type-post_type menu-item-object-page menu-item-44601 menu-item-depth-2\" value=\"https://www.coindesk.com/price/bitcoin-price-ticker-widget/\">\n",
      "   – – Bitcoin Price Ticker Widget\n",
      "  </option>\n",
      "  <option class=\"menu-item menu-item-type-post_type menu-item-object-page menu-item-19081 menu-item-depth-2\" value=\"https://www.coindesk.com/api/\">\n",
      "   – – CoinDesk API\n",
      "  </option>\n",
      "  <option class=\"menu-item menu-item-type-custom menu-item-object-custom menu-item-has-children menu-item-268365 menu-item-depth-1\" value=\"/research/\">\n",
      "   – Industry Research\n",
      "  </option>\n",
      "  <option class=\"menu-item menu-item-type-custom menu-item-object-custom menu-item-260110 menu-item-depth-2\" value=\"https://www.coindesk.com/research/state-blockchain-q2-2017/\">\n",
      "   – – State of Blockchain Q2 2017\n",
      "  </option>\n",
      "  <option class=\"menu-item menu-item-type-custom menu-item-object-custom menu-item-268073 menu-item-depth-2\" value=\"https://www.coindesk.com/research/advances-blockchain-privacy-confidentiality/\">\n",
      "   – – Advances in Blockchain Privacy\n",
      "  </option>\n",
      "  <option class=\"menu-item menu-item-type-post_type menu-item-object-research menu-item-239352 menu-item-depth-2\" value=\"https://www.coindesk.com/research/understanding-ethereum-report/\">\n",
      "   – – Understanding Ethereum\n",
      "  </option>\n",
      "  <option class=\"menu-item menu-item-type-post_type menu-item-object-research menu-item-234493 menu-item-depth-2\" value=\"https://www.coindesk.com/research/supply-chains-report/\">\n",
      "   – – Trade Finance and Supply Chains\n",
      "  </option>\n",
      "  <option class=\"menu-item menu-item-type-custom menu-item-object-custom menu-item-232077 menu-item-depth-2\" value=\"https://www.coindesk.com/research/smart-contracts-report/\">\n",
      "   – – Smart Contracts\n",
      "  </option>\n",
      "  <option class=\"menu-item menu-item-type-custom menu-item-object-custom menu-item-258378 menu-item-depth-2\" value=\"https://www.coindesk.com/research/blockchains-for-insurance/\">\n",
      "   – – Blockchains for Insurance\n",
      "  </option>\n",
      "  <option class=\"menu-item menu-item-type-custom menu-item-object-custom menu-item-has-children menu-item-147070 menu-item-depth-0\" value=\"https://www.coindesk.com/events/consensus-2018/\">\n",
      "   Consensus\n",
      "  </option>\n",
      "  <option class=\"menu-item menu-item-type-post_type menu-item-object-page menu-item-270450 menu-item-depth-1\" value=\"https://www.coindesk.com/events/consensus-2018/\">\n",
      "   – Consensus 2018\n",
      "  </option>\n",
      "  <option class=\"menu-item menu-item-type-custom menu-item-object-custom menu-item-282840 menu-item-depth-1\" value=\"https://www.coindesk.com/events/invest-2017/\">\n",
      "   – Invest 2017\n",
      "  </option>\n",
      "  <option class=\"menu-item menu-item-type-post_type menu-item-object-page menu-item-245148 menu-item-depth-1\" value=\"https://www.coindesk.com/events/consensus-2017/\">\n",
      "   – Consensus 2017\n",
      "  </option>\n",
      "  <option class=\"menu-item menu-item-type-custom menu-item-object-custom menu-item-249670 menu-item-depth-1\" value=\"https://www.coindesk.com/events/construct-2017/\">\n",
      "   – Construct 2017\n",
      "  </option>\n",
      "  <option class=\"menu-item menu-item-type-custom menu-item-object-custom menu-item-180844 menu-item-depth-1\" value=\"https://www.coindesk.com/events/consensus-2016/\">\n",
      "   – Consensus 2016\n",
      "  </option>\n",
      "  <option class=\"menu-item menu-item-type-custom menu-item-object-custom menu-item-175112 menu-item-depth-1\" value=\"/bitcoin-events/\">\n",
      "   – Event Schedule\n",
      "  </option>\n",
      "  <option class=\"menu-item menu-item-type-custom menu-item-object-custom menu-item-312887 menu-item-depth-1\" value=\"https://www.coindesk.com/webinars/\">\n",
      "   – Webinars\n",
      "  </option>\n",
      " </select>\n",
      "</div>\n",
      "\n"
     ]
    }
   ],
   "source": [
    "# Narrow search to the top naviation bar.\n",
    "nav_bar = soup.find(class_=\"menu-top-nav-container\") \n",
    "print(nav_bar.prettify())"
   ]
  },
  {
   "cell_type": "code",
   "execution_count": 74,
   "metadata": {},
   "outputs": [
    {
     "name": "stdout",
     "output_type": "stream",
     "text": [
      "None\n"
     ]
    }
   ],
   "source": []
  },
  {
   "cell_type": "code",
   "execution_count": 33,
   "metadata": {},
   "outputs": [],
   "source": [
    "print(soup.find(class_=\"menu-top-nav-container\").prettify()) "
   ]
  },
  {
   "cell_type": "code",
   "execution_count": null,
   "metadata": {},
   "outputs": [],
   "source": []
  },
  {
   "cell_type": "code",
   "execution_count": 5,
   "metadata": {},
   "outputs": [
    {
     "data": {
      "text/plain": [
       "['Alyssa Hertig ',\n",
       " 'Annaliese Milano ',\n",
       " 'Alyssa Hertig ',\n",
       " \"Rachel Rose O'Leary \",\n",
       " 'Primavera De Filippi ',\n",
       " \"Rachel Rose O'Leary \",\n",
       " 'Wolfie Zhao ',\n",
       " 'Marc Hochstein ',\n",
       " \"Rachel Rose O'Leary and Bailey Reutzel \",\n",
       " 'Annaliese Milano ']"
      ]
     },
     "execution_count": 5,
     "metadata": {},
     "output_type": "execute_result"
    }
   ],
   "source": [
    "[re.split('\\n', d.text)[2] for d in content.find_all(class_='timeauthor')]"
   ]
  },
  {
   "cell_type": "code",
   "execution_count": 6,
   "metadata": {},
   "outputs": [
    {
     "data": {
      "text/plain": [
       "['', 'Mar 2, 2018 at 20:00 | ', 'Alyssa Hertig ', '']"
      ]
     },
     "execution_count": 6,
     "metadata": {},
     "output_type": "execute_result"
    }
   ],
   "source": [
    "re.split('\\n', '\\nMar 2, 2018 at 20:00 | \\nAlyssa Hertig \\n')"
   ]
  },
  {
   "cell_type": "code",
   "execution_count": 9,
   "metadata": {},
   "outputs": [
    {
     "data": {
      "text/plain": [
       "['\\nMar 2, 2018 at 20:00 | \\nAlyssa Hertig \\n',\n",
       " '\\nMar 2, 2018 at 14:25 | \\nAnnaliese Milano \\n',\n",
       " '\\nMar 2, 2018 at 13:00 | \\nAlyssa Hertig \\n',\n",
       " \"\\nMar 2, 2018 at 09:05 | \\nRachel Rose O'Leary \\n\",\n",
       " '\\nFeb 28, 2018 at 14:00 | \\nPrimavera De Filippi \\n',\n",
       " \"\\nFeb 28, 2018 at 05:01 | \\nRachel Rose O'Leary \\n\",\n",
       " '\\nFeb 28, 2018 at 01:15 | \\nWolfie Zhao \\n',\n",
       " '\\nFeb 27, 2018 at 09:00 | \\nMarc Hochstein \\n',\n",
       " \"\\nFeb 26, 2018 at 21:00 | \\nRachel Rose O'Leary and Bailey Reutzel \\n\",\n",
       " '\\nFeb 26, 2018 at 18:00 | \\nAnnaliese Milano \\n']"
      ]
     },
     "execution_count": 9,
     "metadata": {},
     "output_type": "execute_result"
    }
   ],
   "source": [
    "[d.text for d in content.find_all(class_='timeauthor')]"
   ]
  },
  {
   "cell_type": "code",
   "execution_count": 12,
   "metadata": {},
   "outputs": [
    {
     "name": "stdout",
     "output_type": "stream",
     "text": [
      "['Alyssa Hertig ', 'Annaliese Milano ', 'Alyssa Hertig ', \"Rachel Rose O'Leary \", 'Primavera De Filippi ', \"Rachel Rose O'Leary \", 'Wolfie Zhao ', 'Marc Hochstein ', \"Rachel Rose O'Leary and Bailey Reutzel \", 'Annaliese Milano ']\n"
     ]
    },
    {
     "data": {
      "text/plain": [
       "10"
      ]
     },
     "execution_count": 12,
     "metadata": {},
     "output_type": "execute_result"
    }
   ],
   "source": [
    "date = [d.text for d in content.find_all('time')]\n",
    "author = [re.split('\\n', d.text)[2] for d in content.find_all(class_='timeauthor')]\n",
    "print(author)\n",
    "len(date)\n",
    "len(author)"
   ]
  },
  {
   "cell_type": "code",
   "execution_count": 13,
   "metadata": {
    "collapsed": true
   },
   "outputs": [],
   "source": [
    "article_info = content.find_all(class_ ='fade')\n"
   ]
  },
  {
   "cell_type": "code",
   "execution_count": 14,
   "metadata": {},
   "outputs": [
    {
     "name": "stdout",
     "output_type": "stream",
     "text": [
      "['https://www.coindesk.com/fundamentally-vulnerable-ethereums-casper-tech-takes-criticism-curacao/', 'https://www.coindesk.com/overwinter-approaching-zcash-moves-closer-first-ever-hard-fork/', 'https://www.coindesk.com/raiden-isnt-ethereums-hope-off-chain-payments-anymore/', 'https://www.coindesk.com/forking-fork-bitcoin-private-copies-zcash-whats-worth/', 'https://www.coindesk.com/no-blockchain-island/', 'https://www.coindesk.com/35-million-refund-developer-appeals-ethereum-hard-fork-hack-reversal/', 'https://www.coindesk.com/chinese-universities-pursuing-blockchain-patents/', 'https://www.coindesk.com/making-peace-cryptos-capacity-evil/', 'https://www.coindesk.com/bitcoin-pizza-day-2-lightning-payment-just-made-history/', 'https://www.coindesk.com/bitcoin-core-releases-software-upgrade-full-segwit-support/']\n",
      "[\"Ethereum's Casper Tech Criticized at Curacao Event\", 'Overwinter Is Coming: Zcash Moves Closer to First-Ever Hard Fork', \"Ethereum's Raiden Network Has New Scaling Competiton\", \"'Bitcoin Private' Is Here, But What's It Worth?\", 'No Blockchain Is an Island', '$35 Million Refund? Developer Appeals to Ethereum for Hack Reversal', 'Chinese Universities Are Pursuing Blockchain Patents', 'Making Peace with a Crypto Axis of Evil', 'Bitcoin Pizza Day 2: History Repeats With Lightning Buy', 'Bitcoin Core Releases Software Upgrade With Full SegWit Support']\n"
     ]
    }
   ],
   "source": [
    "#creates a list with all the links to the articles\n",
    "#we can make requests with this links\n",
    "links_list=list()\n",
    "article_names = list()\n",
    "for info in article_info:\n",
    "    link = info.get('href')\n",
    "    title = info.get('title')\n",
    "    if link not in links_list:\n",
    "        links_list.append(info.get('href'))\n",
    "    if title not in article_names:\n",
    "        article_names.append(info.get('title'))\n",
    "print(links_list)\n",
    "print(article_names)"
   ]
  },
  {
   "cell_type": "code",
   "execution_count": 88,
   "metadata": {},
   "outputs": [
    {
     "data": {
      "text/html": [
       "<div>\n",
       "<style>\n",
       "    .dataframe thead tr:only-child th {\n",
       "        text-align: right;\n",
       "    }\n",
       "\n",
       "    .dataframe thead th {\n",
       "        text-align: left;\n",
       "    }\n",
       "\n",
       "    .dataframe tbody tr th {\n",
       "        vertical-align: top;\n",
       "    }\n",
       "</style>\n",
       "<table border=\"1\" class=\"dataframe\">\n",
       "  <thead>\n",
       "    <tr style=\"text-align: right;\">\n",
       "      <th></th>\n",
       "      <th>Article Name</th>\n",
       "      <th>Author</th>\n",
       "      <th>Date</th>\n",
       "      <th>Links</th>\n",
       "    </tr>\n",
       "  </thead>\n",
       "  <tbody>\n",
       "    <tr>\n",
       "      <th>0</th>\n",
       "      <td>Ethereum's Casper Tech Criticized at Curacao E...</td>\n",
       "      <td>Alyssa Hertig</td>\n",
       "      <td>Mar 2, 2018 at 20:00</td>\n",
       "      <td>https://www.coindesk.com/fundamentally-vulnera...</td>\n",
       "    </tr>\n",
       "    <tr>\n",
       "      <th>1</th>\n",
       "      <td>Overwinter Is Coming: Zcash Moves Closer to Fi...</td>\n",
       "      <td>Annaliese Milano</td>\n",
       "      <td>Mar 2, 2018 at 14:25</td>\n",
       "      <td>https://www.coindesk.com/overwinter-approachin...</td>\n",
       "    </tr>\n",
       "    <tr>\n",
       "      <th>2</th>\n",
       "      <td>Ethereum's Raiden Network Has New Scaling Comp...</td>\n",
       "      <td>Alyssa Hertig</td>\n",
       "      <td>Mar 2, 2018 at 13:00</td>\n",
       "      <td>https://www.coindesk.com/raiden-isnt-ethereums...</td>\n",
       "    </tr>\n",
       "    <tr>\n",
       "      <th>3</th>\n",
       "      <td>'Bitcoin Private' Is Here, But What's It Worth?</td>\n",
       "      <td>Rachel Rose O'Leary</td>\n",
       "      <td>Mar 2, 2018 at 09:05</td>\n",
       "      <td>https://www.coindesk.com/forking-fork-bitcoin-...</td>\n",
       "    </tr>\n",
       "    <tr>\n",
       "      <th>4</th>\n",
       "      <td>No Blockchain Is an Island</td>\n",
       "      <td>Primavera De Filippi</td>\n",
       "      <td>Feb 28, 2018 at 14:00</td>\n",
       "      <td>https://www.coindesk.com/no-blockchain-island/</td>\n",
       "    </tr>\n",
       "    <tr>\n",
       "      <th>5</th>\n",
       "      <td>$35 Million Refund? Developer Appeals to Ether...</td>\n",
       "      <td>Rachel Rose O'Leary</td>\n",
       "      <td>Feb 28, 2018 at 05:01</td>\n",
       "      <td>https://www.coindesk.com/35-million-refund-dev...</td>\n",
       "    </tr>\n",
       "    <tr>\n",
       "      <th>6</th>\n",
       "      <td>Chinese Universities Are Pursuing Blockchain P...</td>\n",
       "      <td>Wolfie Zhao</td>\n",
       "      <td>Feb 28, 2018 at 01:15</td>\n",
       "      <td>https://www.coindesk.com/chinese-universities-...</td>\n",
       "    </tr>\n",
       "    <tr>\n",
       "      <th>7</th>\n",
       "      <td>Making Peace with a Crypto Axis of Evil</td>\n",
       "      <td>Marc Hochstein</td>\n",
       "      <td>Feb 27, 2018 at 09:00</td>\n",
       "      <td>https://www.coindesk.com/making-peace-cryptos-...</td>\n",
       "    </tr>\n",
       "    <tr>\n",
       "      <th>8</th>\n",
       "      <td>Bitcoin Pizza Day 2: History Repeats With Ligh...</td>\n",
       "      <td>Rachel Rose O'Leary and Bailey Reutzel</td>\n",
       "      <td>Feb 26, 2018 at 21:00</td>\n",
       "      <td>https://www.coindesk.com/bitcoin-pizza-day-2-l...</td>\n",
       "    </tr>\n",
       "    <tr>\n",
       "      <th>9</th>\n",
       "      <td>Bitcoin Core Releases Software Upgrade With Fu...</td>\n",
       "      <td>Annaliese Milano</td>\n",
       "      <td>Feb 26, 2018 at 18:00</td>\n",
       "      <td>https://www.coindesk.com/bitcoin-core-releases...</td>\n",
       "    </tr>\n",
       "  </tbody>\n",
       "</table>\n",
       "</div>"
      ],
      "text/plain": [
       "                                        Article Name  \\\n",
       "0  Ethereum's Casper Tech Criticized at Curacao E...   \n",
       "1  Overwinter Is Coming: Zcash Moves Closer to Fi...   \n",
       "2  Ethereum's Raiden Network Has New Scaling Comp...   \n",
       "3    'Bitcoin Private' Is Here, But What's It Worth?   \n",
       "4                         No Blockchain Is an Island   \n",
       "5  $35 Million Refund? Developer Appeals to Ether...   \n",
       "6  Chinese Universities Are Pursuing Blockchain P...   \n",
       "7            Making Peace with a Crypto Axis of Evil   \n",
       "8  Bitcoin Pizza Day 2: History Repeats With Ligh...   \n",
       "9  Bitcoin Core Releases Software Upgrade With Fu...   \n",
       "\n",
       "                                    Author                   Date  \\\n",
       "0                           Alyssa Hertig    Mar 2, 2018 at 20:00   \n",
       "1                        Annaliese Milano    Mar 2, 2018 at 14:25   \n",
       "2                           Alyssa Hertig    Mar 2, 2018 at 13:00   \n",
       "3                     Rachel Rose O'Leary    Mar 2, 2018 at 09:05   \n",
       "4                    Primavera De Filippi   Feb 28, 2018 at 14:00   \n",
       "5                     Rachel Rose O'Leary   Feb 28, 2018 at 05:01   \n",
       "6                             Wolfie Zhao   Feb 28, 2018 at 01:15   \n",
       "7                          Marc Hochstein   Feb 27, 2018 at 09:00   \n",
       "8  Rachel Rose O'Leary and Bailey Reutzel   Feb 26, 2018 at 21:00   \n",
       "9                        Annaliese Milano   Feb 26, 2018 at 18:00   \n",
       "\n",
       "                                               Links  \n",
       "0  https://www.coindesk.com/fundamentally-vulnera...  \n",
       "1  https://www.coindesk.com/overwinter-approachin...  \n",
       "2  https://www.coindesk.com/raiden-isnt-ethereums...  \n",
       "3  https://www.coindesk.com/forking-fork-bitcoin-...  \n",
       "4     https://www.coindesk.com/no-blockchain-island/  \n",
       "5  https://www.coindesk.com/35-million-refund-dev...  \n",
       "6  https://www.coindesk.com/chinese-universities-...  \n",
       "7  https://www.coindesk.com/making-peace-cryptos-...  \n",
       "8  https://www.coindesk.com/bitcoin-pizza-day-2-l...  \n",
       "9  https://www.coindesk.com/bitcoin-core-releases...  "
      ]
     },
     "execution_count": 88,
     "metadata": {},
     "output_type": "execute_result"
    }
   ],
   "source": [
    "#not a final dataframe \n",
    "#represents info only from the firs\n",
    "info_df = pd.DataFrame({'Date':date,\n",
    "                       'Author': author,\n",
    "                       'Article Name': article_names,\n",
    "                       'Links': links_list})\n",
    "info_df"
   ]
  },
  {
   "cell_type": "code",
   "execution_count": null,
   "metadata": {
    "collapsed": true
   },
   "outputs": [],
   "source": []
  },
  {
   "cell_type": "code",
   "execution_count": null,
   "metadata": {
    "collapsed": true
   },
   "outputs": [],
   "source": [
    "import json\n",
    "\n",
    "with open(\"lobbying.json\", \"w\") as writeJSON:\n",
    "    json.dump(lobbying, writeJSON)"
   ]
  }
 ],
 "metadata": {
  "kernelspec": {
   "display_name": "Python 3",
   "language": "python",
   "name": "python3"
  },
  "language_info": {
   "codemirror_mode": {
    "name": "ipython",
    "version": 3
   },
   "file_extension": ".py",
   "mimetype": "text/x-python",
   "name": "python",
   "nbconvert_exporter": "python",
   "pygments_lexer": "ipython3",
   "version": "3.6.4"
  }
 },
 "nbformat": 4,
 "nbformat_minor": 2
}
